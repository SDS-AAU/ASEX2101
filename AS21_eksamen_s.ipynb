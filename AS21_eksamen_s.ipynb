{
  "nbformat": 4,
  "nbformat_minor": 0,
  "metadata": {
    "orig_nbformat": 2,
    "deepnote": {
      "is_reactive": false
    },
    "deepnote_notebook_id": "c2795927-4e28-4459-836c-60c449acde18",
    "deepnote_execution_queue": [],
    "colab": {
      "name": "AS21-eksamen-stud.ipynb",
      "provenance": [],
      "collapsed_sections": []
    },
    "language_info": {
      "name": "python"
    },
    "kernelspec": {
      "name": "python3",
      "display_name": "Python 3"
    }
  },
  "cells": [
    {
      "cell_type": "markdown",
      "metadata": {
        "tags": [],
        "cell_id": "00000-8c8d4eef-b9d4-499c-b578-19e9dd477d0e",
        "deepnote_cell_type": "markdown",
        "id": "gwmtR6vMabmB"
      },
      "source": [
        "# Eksamen: Anvendt Statistik 2021\n",
        "### Aalborg University Business School, HA 1. Semester\n",
        "#### Roman Jurowetzki\n",
        "\n",
        "#### Rules of the game - LÆS.\n",
        "\n",
        "- Don't panic! - Hvis koden ikke virker (men virkede før). Gå tilbage, og kør oppefra ned. Også en god ide at tjekke, at koden er fejlfri ved at gøre denne øvelse undervejs.\n",
        "- LÆS!!! hvad der står og hvad du forventes at lave!\n",
        "- De fleste kodefejl er dumme stavefejl. Vær omhyggelig med kommaer, punktum etc.\n",
        "- Hvis der er noget, som slet ikke kan løses, så kan du bare kommentere ud med `#`\n",
        "- Husk, at output skal kunne ses (f.eks. dine plots)\n",
        "- Play fair og lad være med at snyde! - Gruppearbejde er absolut IKKE tilladt.\n",
        "- Tjek AAU mail mht mulige opdateringer fra undervisere undervejs\n",
        "- Brug kun objektnavne, der blev defineret i opgaven\n",
        "- Der afleveres som 👉 `ipynb` (**ikke PDF!**) - dvs, du skal bare downloade den fil du arbejder med fra colab eller bare aflevere den ipynb fil som du har åbent i Jupyter Lab."
      ]
    },
    {
      "cell_type": "code",
      "metadata": {
        "tags": [],
        "cell_id": "00000-99146d64-c6d3-4a5f-ae35-ecc3169330c6",
        "deepnote_to_be_reexecuted": false,
        "source_hash": "2bdc404e",
        "execution_start": 1632862345903,
        "execution_millis": 0,
        "deepnote_cell_type": "code",
        "id": "9XhmD1iiabmH"
      },
      "source": [
        "# importer pakker\n",
        "import pandas as pd\n",
        "import seaborn as sns\n",
        "import matplotlib.pyplot as plt"
      ],
      "execution_count": null,
      "outputs": []
    },
    {
      "cell_type": "markdown",
      "metadata": {
        "tags": [],
        "cell_id": "00002-25c244e8-b423-4411-ad1d-6d4b166e74a3",
        "deepnote_cell_type": "markdown",
        "id": "xxI8eoCoabmJ"
      },
      "source": [
        "# Korean Bakery\n",
        "![](https://source.unsplash.com/surQ2mkZNxw)\n",
        "\n",
        "I denne opgave møder du salgsdata fra et lille bageri, som også startede leveringsservice i juli 2019. Bageriet ligger i byen Chuncheon i Sydkorea og sælger en del [Angbutter](https://www.chopsticksandflour.com/ang-butter-scone-scone-with-sweet-red-bean-and-butter/) (Scone or Pretzel 😵 with Sweet Red Bean and Butter) - ellers er de fleste ting kendte produkter som også findes i bagerier herhjemme.\n",
        "\n",
        "I opgaven kommer du til at rense og forberede salgsdata, tilføje andre produktoplysninger og foretage forskellige analyser, der kunne hjælpe bageriet med at justere deres output og vagtplaner.\n",
        "\n",
        "Du skal arbejde med 2 filer:\n",
        "- `Bakery_sales.csv` (salgsdata, hver observation er én bestilling)\n",
        "- `Bakery_calories_prices.csv` (oversigt over priser og calorier mht. de forskellige produkter)\n",
        "\n",
        "Filerne findes også på:\n",
        "\n",
        "- `https://github.com/SDS-AAU/ASEX2101/raw/main/Bakery_calories_prices.csv`\n",
        "- `https://github.com/SDS-AAU/ASEX2101/raw/main/Bakery_sales.csv`\n",
        "\n",
        "\n",
        "OBS: \n",
        "\n",
        "- der er en del celler især i preprocessing delen, som du bare skal køre uden ændring.\n",
        "\n",
        "- Hvis du får problemer med preprocessing delen, \n",
        "\n",
        "Lidt mere forklaring omkring variable (hvis du vil vide hvad det er for noget)\n",
        "\n",
        "| variable             | explanation                                                                                                                                 |\n",
        "|----------------------|---------------------------------------------------------------------------------------------------------------------------------------------|\n",
        "| total:               | Total Amount.                                                                                                                               |\n",
        "| place:               | customer's place                                                                                                                            |\n",
        "| angbutter:           | It's a pain's name. Pretzel filled with red beans and gourmet butter. you can check [this link](https://www.10000recipe.com/recipe/6927002) |\n",
        "| plain bread:         | plain bread.                                                                                                                                |\n",
        "| jam:                 | peach jam.                                                                                                                                  |\n",
        "| americano:           | americano                                                                                                                                   |\n",
        "| croissant:           | croissant.                                                                                                                                  |\n",
        "| caffe latte:         | caffe laffe.                                                                                                                                |\n",
        "| tiramisu croissant:  | Croissants filled with tiramisu cream and fruit.                                                                                            |\n",
        "| cacao deep:          | Croissant covered in Valrhona chocolate                                                                                                     |\n",
        "| pain au chocolate:   | Pain au chocolate.                                                                                                                          |\n",
        "| almond croissant:    | Croissant filled with almond cream.                                                                                                         |\n",
        "| milk tea:            | Mariage Frères milk tea.                                                                                                                    |\n",
        "| gateau chocolat:     | piece of chocolate cake.                                                                                                                    |\n",
        "| pandoro: pandoro:    | Italian pain.                                                                                                                               |\n",
        "| cheese cake:         | Cheese cake.                                                                                                                                |\n",
        "| lemon ade:           | Lemon ade                                                                                                                                   |\n",
        "| orange pound:        | Orange pound cake.                                                                                                                          |\n",
        "| wiener:              | sausage bread.                                                                                                                              |\n",
        "| vanila latte:        | Brewed with Madagascar vanilla bean.                                                                                                        |\n",
        "| berry ade:           | berry ade.                                                                                                                                  |\n",
        "| tiramisu:            | tiramisu cake.                                                                                                                              |\n",
        "| merinque cookies:    | cookies.                                                                                                                                    |"
      ]
    },
    {
      "cell_type": "markdown",
      "metadata": {
        "tags": [],
        "is_collapsed": false,
        "cell_id": "00003-517629cc-6481-4a45-9b27-0d354e866a25",
        "deepnote_cell_type": "text-cell-h2",
        "id": "Rb1Y1pGeabmL"
      },
      "source": [
        "## Indlæsning og preprocessing"
      ]
    },
    {
      "cell_type": "code",
      "metadata": {
        "tags": [],
        "cell_id": "00001-0b69bcf2-57d8-4ee2-84b8-9304efd841d7",
        "deepnote_to_be_reexecuted": false,
        "source_hash": "bfe1aa3a",
        "execution_start": 1632862345904,
        "execution_millis": 107,
        "deepnote_cell_type": "code",
        "id": "PWOQ0rLxabmM"
      },
      "source": [
        "# 1.1\n",
        "# brug pandas til at åbne datafiler (ingen zip, ingen specielle sep indstillinger)\n",
        "sales = pd.___(___)\n",
        "calories = pd.___(___)"
      ],
      "execution_count": null,
      "outputs": []
    },
    {
      "cell_type": "code",
      "metadata": {
        "tags": [],
        "cell_id": "00005-f1b5432f-b2af-4636-a1ae-cb52c77d89b2",
        "deepnote_to_be_reexecuted": false,
        "source_hash": "2d90b6f2",
        "execution_start": 1632862346056,
        "execution_millis": 50,
        "deepnote_cell_type": "code",
        "id": "1Ne4WPouabmN"
      },
      "source": [
        "# 1.2\n",
        "# inspicer de første 5 rækker i datasættet\n",
        "___"
      ],
      "execution_count": null,
      "outputs": []
    },
    {
      "cell_type": "code",
      "metadata": {
        "tags": [],
        "cell_id": "00003-ee21cc85-0558-423c-b9a7-428562b409d0",
        "deepnote_to_be_reexecuted": false,
        "source_hash": "7c0cb8d7",
        "execution_start": 1632862346094,
        "execution_millis": 4,
        "deepnote_cell_type": "code",
        "id": "tg9a7_RDabmO"
      },
      "source": [
        "# (kør uden ændring) det er en god idé ikke at have mellemrum i kolonnenavne\n",
        "sales.columns = [col.replace(' ','_') for col in sales.columns]"
      ],
      "execution_count": null,
      "outputs": []
    },
    {
      "cell_type": "code",
      "metadata": {
        "tags": [],
        "cell_id": "00007-6156d0d0-884c-4d15-9b2f-06216f7e4acd",
        "deepnote_to_be_reexecuted": false,
        "source_hash": "23f2cdc2",
        "execution_start": 1632863511398,
        "execution_millis": 52,
        "deepnote_cell_type": "code",
        "id": "qAz-38QdabmP"
      },
      "source": [
        "# inspicer de sidte 5 rækker i datasættet ved at bruge .tail() kommandoen\n",
        "sales.____"
      ],
      "execution_count": null,
      "outputs": []
    },
    {
      "cell_type": "code",
      "metadata": {
        "tags": [],
        "cell_id": "00008-428f58e8-bddb-4c18-83de-5795d4306e3a",
        "deepnote_to_be_reexecuted": false,
        "source_hash": "8e08ff80",
        "execution_start": 1632862346181,
        "execution_millis": 6,
        "deepnote_cell_type": "code",
        "id": "CAHplYBIabmP"
      },
      "source": [
        "# 1.3\n",
        "# drop observationer hvor enten datetime eller day_of_week mangler\n",
        "\n",
        "sales = sales.___(___=[___,___])\n",
        "\n",
        "# derefter se igen på de sidste 5 rækker ved at køre sidste celle "
      ],
      "execution_count": null,
      "outputs": []
    },
    {
      "cell_type": "code",
      "metadata": {
        "tags": [],
        "cell_id": "00004-da89f917-7463-4587-b2c2-cef40a388ca0",
        "deepnote_to_be_reexecuted": false,
        "source_hash": "9d85c152",
        "execution_start": 1632862346191,
        "execution_millis": 3,
        "deepnote_cell_type": "code",
        "id": "MYjw1OLDabmQ"
      },
      "source": [
        "# (kør uden ændring) Det er måske ikke så nemt at sige noget om 소양동 medmindre du kan læse koreansk - vi oversætter lige\n",
        "sales['place'].replace({'소양동' : 'Soyang-dong', '효자 3동' : 'Hyoja3-dong', '후평 1동' : 'Hoopyeong1-dong', '후평 2동' : 'Hoopyeong2-dong', \n",
        "                           '석사동' : 'Seoksa-dong', '퇴계동' : 'Toegye-dong', '동면' : 'Dongmyeon', '후평 3동': 'Hoopyeong3-dong', \"신사우동\" : 'Sinsawoo-dong',\n",
        "                          \"강남동\" : 'Gangnam-dong', \"효자 1동\": 'Hyoja1-dong', '조운동' : 'Jowoon-dong', '교동' : 'Gyo-dong', '효자 2동' : 'Hyoja2-dong', '약사명동' : 'Yaksamyeong-dong',\n",
        "                          '근화동': 'Geunhwa-dong', '동내면' : 'Dongnae-myeon', '신동면' : 'Sindong-myeon', '교동 ': 'Gyo-dong'}, inplace = True)"
      ],
      "execution_count": null,
      "outputs": []
    },
    {
      "cell_type": "code",
      "metadata": {
        "tags": [],
        "cell_id": "00004-722a3758-8263-45a2-984b-c3f759d3c258",
        "deepnote_to_be_reexecuted": false,
        "source_hash": "9a13286d",
        "execution_start": 1632862346198,
        "execution_millis": 39,
        "deepnote_cell_type": "code",
        "id": "_o_yYI0tabmQ"
      },
      "source": [
        "# 1.4\n",
        "# lad os se på sales dataframes info - især hvad der mangler\n",
        "___"
      ],
      "execution_count": null,
      "outputs": []
    },
    {
      "cell_type": "code",
      "metadata": {
        "tags": [],
        "cell_id": "00004-0d93aece-d193-45a6-a59d-68966bdbf104",
        "deepnote_to_be_reexecuted": false,
        "source_hash": "3905d4a8",
        "execution_start": 1632862346217,
        "execution_millis": 1,
        "deepnote_cell_type": "code",
        "id": "agkvl-FnabmR"
      },
      "source": [
        "# fjern variabler / kolonner (produkter), som aldrig bliver solgt (eller produceret)\n",
        "sales.___([___, ___], axis=1, inplace=True)"
      ],
      "execution_count": null,
      "outputs": []
    },
    {
      "cell_type": "code",
      "metadata": {
        "tags": [],
        "cell_id": "00009-d85ae62d-b170-4691-8ade-77f877005fc9",
        "deepnote_to_be_reexecuted": false,
        "source_hash": "b56b83b1",
        "execution_start": 1632862346218,
        "execution_millis": 0,
        "deepnote_cell_type": "code",
        "id": "TvfMfLleabmR"
      },
      "source": [
        "# (kør uden ændring) fillna hjælper os med at indsætte værdier, hvor vi mangler\n",
        "sales.place.fillna('onsite-takeout', inplace=True) #antager at bestillinger uden place er kunder, der afhenter\n",
        "sales.fillna(0, inplace=True) # erstatter resten med 0"
      ],
      "execution_count": null,
      "outputs": []
    },
    {
      "cell_type": "code",
      "metadata": {
        "tags": [],
        "cell_id": "00010-2b8d3849-c4f8-4f93-9739-dfc05568bdb2",
        "deepnote_to_be_reexecuted": false,
        "source_hash": "f7d6cd59",
        "execution_start": 1632862346259,
        "execution_millis": 0,
        "deepnote_cell_type": "code",
        "id": "dm7N6A-4abmS"
      },
      "source": [
        "# 1.5\n",
        "# siden bestillinger er \"events\" skal der bruges timestamp som index - sæt datetime index\n",
        "\n",
        "sales.___ = pd.___(sales.datetime)"
      ],
      "execution_count": null,
      "outputs": []
    },
    {
      "cell_type": "markdown",
      "metadata": {
        "tags": [],
        "is_collapsed": false,
        "cell_id": "00014-fd32cd4d-9210-4ef4-8915-2af1e588c543",
        "deepnote_cell_type": "text-cell-h2",
        "id": "zYCKfmqTabmS"
      },
      "source": [
        "## Hvor mange kalorier er der i vores bestillinger?"
      ]
    },
    {
      "cell_type": "markdown",
      "metadata": {
        "tags": [],
        "cell_id": "00015-a675a2f7-b879-4f19-ada4-1f443b60a0f9",
        "deepnote_cell_type": "markdown",
        "id": "UpzEklcJabmS"
      },
      "source": [
        "Her får du lige lidt kode, som du nok ikke kender. Kort forklaring:\n",
        "Vores `calories` dataframe holder produktnavne, priser og kalorier. I hver bestilling er der flere produkter og hvis vi f.eks vil finde ud af hvor mange calorier der er i sådan en bestilling, så skal vi summe calorier for alle købte produkter for hver bestilling.\n",
        "\n",
        "I de fleste virksomheder arbejder man med relationale databaser (f.eks SQL) for at aggregere information som i vores case. Man plejer at have tabeller (dataframes) med kunder, produkter, bestillinger hvor der kan aggregeres (merge/join) mellem dem hvis man vil have en oversigt såsom: bestillinger af en bestimmt produktype fordelt på regioner.\n",
        "\n",
        "#### Plan of attack\n",
        "Vores bestillinger her kommer i et \"wide\" format - men for at aggregere calorier skal det omformes til \"long\", hvor hver række repræsenterer et produkt i én bestilling. Bestillinger har en unik id, som automatisk gentages for hvert produkt, der er bestillt.\n",
        "\n",
        "Vores bestillinger i long format kan eftersølgende \"merges\" med calorie-data og så kan vi gruppere dem igen og udregne hvor mange kalorier der er i hver bestilling."
      ]
    },
    {
      "cell_type": "code",
      "metadata": {
        "tags": [],
        "cell_id": "00010-5661fc2c-7950-4b12-98bb-eac6277d79a2",
        "deepnote_to_be_reexecuted": false,
        "source_hash": "7faf4fd6",
        "execution_start": 1632862346260,
        "execution_millis": 0,
        "deepnote_cell_type": "code",
        "id": "tGxK2QGFabmT"
      },
      "source": [
        "# (kør uden ændring) vi bruger pivot_table for at restrukturere vores data \n",
        "\n",
        "order_product_columns = ['order_id','angbutter', 'plain_bread',\n",
        "       'jam', 'americano', 'croissant', 'caffe_latte', 'tiramisu_croissant',\n",
        "       'cacao_deep', 'pain_au_chocolat', 'almond_croissant', 'milk_tea',\n",
        "       'gateau_chocolat', 'pandoro', 'cheese_cake', 'lemon_ade',\n",
        "       'orange_pound', 'wiener', 'vanila_latte', 'berry_ade', 'tiramisu',\n",
        "       'merinque_cookies']\n",
        "\n",
        "order_product_list = pd.pivot_table(sales[order_product_columns], index='order_id').stack().reset_index()\n",
        "\n",
        "order_product_list.columns = ['order_id', 'product_name', 'count']"
      ],
      "execution_count": null,
      "outputs": []
    },
    {
      "cell_type": "code",
      "metadata": {
        "tags": [],
        "cell_id": "00011-74a66a70-6c97-48b4-80ac-01f3ecf71c86",
        "deepnote_to_be_reexecuted": false,
        "source_hash": "b41be60",
        "execution_start": 1632862346260,
        "execution_millis": 10,
        "deepnote_cell_type": "code",
        "id": "jr3bn-YoabmT"
      },
      "source": [
        "# se på de første 5 rækker - du kan se, at vi nu har objekt_id, navne og antal af produkt per bestilling\n",
        "___"
      ],
      "execution_count": null,
      "outputs": []
    },
    {
      "cell_type": "code",
      "metadata": {
        "tags": [],
        "cell_id": "00018-c574215b-5067-4ed6-aca1-7aafd3dcf996",
        "deepnote_to_be_reexecuted": false,
        "source_hash": "fb327ab7",
        "execution_start": 1632862346274,
        "execution_millis": 45,
        "deepnote_cell_type": "code",
        "id": "rZpP-pmYabmT"
      },
      "source": [
        "# se lige ind i calories dataframe (5 første rækker)\n",
        "___"
      ],
      "execution_count": null,
      "outputs": []
    },
    {
      "cell_type": "code",
      "metadata": {
        "tags": [],
        "cell_id": "00019-25e8c6bf-c60c-4f47-9ce4-03edda71d328",
        "deepnote_to_be_reexecuted": false,
        "source_hash": "a61b6050",
        "execution_start": 1632862346292,
        "execution_millis": 0,
        "deepnote_cell_type": "code",
        "id": "_xazqvrMabmU"
      },
      "source": [
        "# kør uden ændring: husk, at skifte navne (mellemrum -> _) så det passer sammen med vores kolonner (navne i salg )\n",
        "\n",
        "calories.product_name = calories.product_name.str.replace(' ','_')"
      ],
      "execution_count": null,
      "outputs": []
    },
    {
      "cell_type": "code",
      "metadata": {
        "tags": [],
        "cell_id": "00013-bb867e70-6f09-4933-96f5-7422ca1b5706",
        "deepnote_to_be_reexecuted": false,
        "source_hash": "e20e2549",
        "execution_start": 1632862346294,
        "execution_millis": 3,
        "deepnote_cell_type": "code",
        "id": "2qVfx_8zabmU"
      },
      "source": [
        "# 2.1\n",
        "# order_product_list of calories har begge to product_name kolonnen og vi kan aggregere dem i en ny dataframe\n",
        "\n",
        "orders_calories = order_product_list.___(___)"
      ],
      "execution_count": null,
      "outputs": []
    },
    {
      "cell_type": "code",
      "metadata": {
        "tags": [],
        "cell_id": "00014-a3d67089-2886-4f28-b15b-ebaded0f62a5",
        "deepnote_to_be_reexecuted": false,
        "source_hash": "a7ed5901",
        "execution_start": 1632862346301,
        "execution_millis": 1,
        "deepnote_cell_type": "code",
        "id": "FAAfhUqaabmU"
      },
      "source": [
        "# 2.2\n",
        "# husk, at vi skal gange med antal af de enkelte produkter i vores bestillinger f.eks hvis der er 2 croissanter\n",
        "orders_calories['calories'] = ___ * ___"
      ],
      "execution_count": null,
      "outputs": []
    },
    {
      "cell_type": "code",
      "metadata": {
        "tags": [],
        "cell_id": "00007-85b85815-b340-4a7c-8d44-b7bc11dbcfab",
        "deepnote_to_be_reexecuted": false,
        "source_hash": "9703a791",
        "execution_start": 1632862346303,
        "execution_millis": 15,
        "deepnote_cell_type": "code",
        "id": "kW8WqjrIabmU"
      },
      "source": [
        "# 2.3\n",
        "# beregn summen af calorier per order_id - du kan behandle order_id(er) som grupper\n",
        "orders_calories = orders_calories.___('___').___.sum()"
      ],
      "execution_count": null,
      "outputs": []
    },
    {
      "cell_type": "code",
      "metadata": {
        "tags": [],
        "cell_id": "00014-f422e32b-ffbc-4e0f-ab31-5f8b443544d9",
        "deepnote_to_be_reexecuted": false,
        "source_hash": "c55ac84b",
        "execution_start": 1632862346321,
        "execution_millis": 3,
        "deepnote_cell_type": "code",
        "id": "RFaB_jVfabmV"
      },
      "source": [
        "# (kør) tjek resultatet, det burde være en Pandas Series med order_id som index og summen af calorier per bestilling som værdi\n",
        "\n",
        "orders_calories"
      ],
      "execution_count": null,
      "outputs": []
    },
    {
      "cell_type": "markdown",
      "metadata": {
        "tags": [],
        "cell_id": "00023-8ead2ea6-ddd8-4a9f-8f1a-59643669843c",
        "deepnote_cell_type": "markdown",
        "id": "PkqZ5w-NabmV"
      },
      "source": [
        "Du kan nu aggregere tilbage (merge) til vores salgsdata ved at bruge order_id som nøgle."
      ]
    },
    {
      "cell_type": "code",
      "metadata": {
        "tags": [],
        "cell_id": "00007-b207c2bb-5d20-4ba1-96ac-3297c591f46e",
        "deepnote_to_be_reexecuted": false,
        "source_hash": "f52494d8",
        "execution_start": 1632862346328,
        "execution_millis": 3,
        "deepnote_cell_type": "code",
        "id": "peEX1FjyabmV"
      },
      "source": [
        "# 2.4\n",
        "# sales og orders_calories skal nu aggregeres hvor order_id bruges som nøgle. \n",
        "# Husk, at orders_calories har den som index\n",
        "sales = sales.___(___, left_on='___', right_index=___)"
      ],
      "execution_count": null,
      "outputs": []
    },
    {
      "cell_type": "code",
      "metadata": {
        "tags": [],
        "cell_id": "00018-317b97b9-9a25-4fbd-8599-1711b8e15eca",
        "deepnote_to_be_reexecuted": false,
        "source_hash": "d7b1661b",
        "execution_start": 1632865237104,
        "execution_millis": 5,
        "deepnote_cell_type": "code",
        "id": "CPjsxOKXabmV"
      },
      "source": [
        "# en sidste ting: Det er en god idé at have en kolonne der viser antallet af produkter for hver bestilling\n",
        "# og en med calorier per antal af produkter\n",
        "sales['n_items'] = sales.iloc[:,4:25].sum(axis=1)\n",
        "sales['cal_per_item'] = sales['calories'] / sales['n_items']"
      ],
      "execution_count": null,
      "outputs": []
    },
    {
      "cell_type": "markdown",
      "metadata": {
        "tags": [],
        "is_collapsed": false,
        "cell_id": "00027-a2863f53-2ce5-4ccd-b0cf-9f58e2f77d7e",
        "deepnote_cell_type": "text-cell-h2",
        "id": "DJ-kJOZ9abmW"
      },
      "source": [
        "## Analyse"
      ]
    },
    {
      "cell_type": "markdown",
      "metadata": {
        "tags": [],
        "cell_id": "00028-067a2daa-b4ea-4822-891e-ac08529fdb05",
        "deepnote_cell_type": "markdown",
        "id": "7SgjB8EQabmW"
      },
      "source": [
        "Hvis du fik problemer med preprocessing, så kan du arbejde videre herfra ved at åbne `sales_prep.csv` eller `https://github.com/SDS-AAU/ASEX2101/raw/main/sales_prep.csv`\n",
        "Der skal laves datetime-index ved at køre `sales.index = pd.to_datetime(sales.datetime)`\n",
        "\n",
        "**Bonus info**: Der kommer nogle opsamlinger over tid, pandas arbejder med: `D: day; W: week, M: month.`"
      ]
    },
    {
      "cell_type": "code",
      "metadata": {
        "tags": [],
        "cell_id": "00030-704fb5c1-7b2a-4bd4-9849-df7773a73fe6",
        "deepnote_to_be_reexecuted": false,
        "source_hash": "aff124bc",
        "execution_start": 1632862555555,
        "execution_millis": 21,
        "deepnote_cell_type": "code",
        "id": "AnXQ48BZabmW"
      },
      "source": [
        "# alternativ for dig, der fik problemer i preprocessing\n",
        "# sales = pd.read_csv('https://github.com/SDS-AAU/ASEX2101/raw/main/sales_prep.csv')\n",
        "# sales.index = pd.to_datetime(sales.datetime)"
      ],
      "execution_count": null,
      "outputs": []
    },
    {
      "cell_type": "code",
      "metadata": {
        "tags": [],
        "cell_id": "00030-5a0b9a54-00c9-4886-91c4-959d3294bf5a",
        "deepnote_to_be_reexecuted": false,
        "source_hash": "becaeaca",
        "execution_start": 1632864660529,
        "execution_millis": 2367,
        "deepnote_cell_type": "code",
        "id": "0bt-0KDrabmW"
      },
      "source": [
        "# 3.1\n",
        "# tjek fordeling af total variablen ved at plotte histogram (op til dig hvordan)\n",
        "sns.___(sales.___)"
      ],
      "execution_count": null,
      "outputs": []
    },
    {
      "cell_type": "code",
      "metadata": {
        "tags": [],
        "cell_id": "00031-9950de0e-547a-422c-8407-20ea369d405d",
        "deepnote_to_be_reexecuted": false,
        "source_hash": "90c73f51",
        "execution_start": 1632864854887,
        "execution_millis": 41,
        "deepnote_cell_type": "code",
        "id": "aXV2vX9jabmW"
      },
      "source": [
        "# 3.2\n",
        "# ser ud som der er en eller få oufliers - sorter dataframe mht. total - start med højeste \n",
        "sales.___.___(ascending=___)"
      ],
      "execution_count": null,
      "outputs": []
    },
    {
      "cell_type": "code",
      "metadata": {
        "tags": [],
        "cell_id": "00032-6dae070b-070d-4b5b-8846-30c6a1680716",
        "deepnote_cell_type": "code",
        "id": "1E6MBPOAabmX"
      },
      "source": [
        "# 3.3\n",
        "# du kan tjekke outlier bestilling ved at subsette sales med datetime af denne bstilling\n",
        "# dvs. copy-paste datetime-index som string\n",
        "sales['2019-___']"
      ],
      "execution_count": null,
      "outputs": []
    },
    {
      "cell_type": "markdown",
      "metadata": {
        "tags": [],
        "is_collapsed": false,
        "cell_id": "00033-ebec3681-9809-4407-adf2-d63ca53e61fb",
        "deepnote_cell_type": "text-cell-p",
        "id": "qP7RMaIEabmX"
      },
      "source": [
        "#### Salg i løbet af dagen"
      ]
    },
    {
      "cell_type": "code",
      "metadata": {
        "tags": [],
        "cell_id": "00033-038ffcfd-5501-4512-af3c-617892bbac0b",
        "deepnote_to_be_reexecuted": false,
        "source_hash": "1ed620ce",
        "execution_start": 1632865307894,
        "execution_millis": 7,
        "deepnote_cell_type": "code",
        "id": "8fqkOOzBabmX"
      },
      "source": [
        "# 3.4\n",
        "# lav en gruppering hvor du kigger på summen af solgte ting n_items for hver time\n",
        "# timer findes i sales.index.hour\n",
        "sales.___(sales.index.hour).___.___()"
      ],
      "execution_count": null,
      "outputs": []
    },
    {
      "cell_type": "markdown",
      "metadata": {
        "tags": [],
        "is_collapsed": false,
        "cell_id": "00030-11fd9d94-3714-427c-94ca-6eff6cc2b51b",
        "deepnote_cell_type": "text-cell-p",
        "id": "wDHjacggabmX"
      },
      "source": [
        "#### Salg per dag, uge, måned"
      ]
    },
    {
      "cell_type": "code",
      "metadata": {
        "tags": [],
        "cell_id": "00018-a0ee1987-4490-4dc3-b663-3c60788b3593",
        "deepnote_to_be_reexecuted": false,
        "source_hash": "4d047b92",
        "execution_start": 1632863127234,
        "execution_millis": 1,
        "deepnote_cell_type": "code",
        "id": "Yj15AzJvabmY"
      },
      "source": [
        "# 3.5\n",
        "# bestillinger skal aggregeres per dag, uge, måned og alle nummeriske værdier summes\n",
        "daily_sales = sales.___('_').___()\n",
        "weekly_sales = sales.___('_').___()\n",
        "monthly_sales = sales.___('_').___()"
      ],
      "execution_count": null,
      "outputs": []
    },
    {
      "cell_type": "code",
      "metadata": {
        "tags": [],
        "cell_id": "00019-178f1184-8bda-460c-bfa2-0855db2861a8",
        "deepnote_to_be_reexecuted": false,
        "source_hash": "e177e9ec",
        "execution_start": 1632856544422,
        "execution_millis": 249,
        "deepnote_cell_type": "code",
        "id": "yEVsgeVjabmY"
      },
      "source": [
        "# 3.6\n",
        "# lav en boxplot, der viser fordelinger i daglige salg af angbutter for de forskellige ugedage:\n",
        "# du kan bruge daily_sales.index.day_name() for at tilgå navne på ugedagene i din datetime-index\n",
        "\n",
        "sns.___(x=___.___, y=daily_sales.index.day_name())"
      ],
      "execution_count": null,
      "outputs": []
    },
    {
      "cell_type": "code",
      "metadata": {
        "tags": [],
        "cell_id": "00033-debe060a-d059-46d3-875b-0ad7b976cb74",
        "deepnote_to_be_reexecuted": false,
        "source_hash": "ca5b65f0",
        "execution_start": 1632863075229,
        "execution_millis": 3,
        "deepnote_cell_type": "code",
        "id": "BaO04k9MabmY"
      },
      "source": [
        "# Hvad kan du konkludere? (2-3 punkter)\n",
        "# Svar: ..."
      ],
      "execution_count": null,
      "outputs": []
    },
    {
      "cell_type": "code",
      "metadata": {
        "tags": [],
        "cell_id": "00034-6a167644-7bbd-46f1-bd44-d046c6e5f64f",
        "deepnote_cell_type": "code",
        "id": "EtGVwka5abmY"
      },
      "source": [
        "# Holder de lukket hver tirsdag? Hvordan kunne man tjekke det? \n",
        "# Beskriv kort strategi og måske kode."
      ],
      "execution_count": null,
      "outputs": []
    },
    {
      "cell_type": "code",
      "metadata": {
        "tags": [],
        "cell_id": "00021-72da76a1-6d7d-4e54-9977-e4118a858f55",
        "deepnote_to_be_reexecuted": false,
        "source_hash": "252fdc7f",
        "execution_start": 1632856544712,
        "execution_millis": 256,
        "deepnote_cell_type": "code",
        "id": "1WUO9Wp_abmY"
      },
      "source": [
        "# 3.7\n",
        "# er der måneder, hvor det går rigtig godt eller omvendt? lav en barplot med total på x \n",
        "# og month_name() - tilgås som day_name() - på y\n",
        "sns.___(x=monthly_sales.___, y=monthly_sales.index.___())"
      ],
      "execution_count": null,
      "outputs": []
    },
    {
      "cell_type": "code",
      "metadata": {
        "tags": [],
        "cell_id": "00035-3d91d9cb-c593-47ab-a7fb-c5e3e36b6ae8",
        "deepnote_to_be_reexecuted": false,
        "source_hash": "28bc197e",
        "execution_start": 1632863339385,
        "execution_millis": 225,
        "deepnote_cell_type": "code",
        "id": "kDpC-xboabmY"
      },
      "source": [
        "# 3.8\n",
        "# lav en lineplot som viser salgsudviklingen per uge over tid index på x, total på y\n",
        "plt.xticks(rotation = 'vertical')\n",
        "sns.___(x = ___.___, y = ___.___)"
      ],
      "execution_count": null,
      "outputs": []
    },
    {
      "cell_type": "code",
      "metadata": {
        "id": "df4LBXEJdT1_"
      },
      "source": [
        "# kan vi se effekten af COVID19?\n",
        "# Svar:"
      ],
      "execution_count": null,
      "outputs": []
    },
    {
      "cell_type": "code",
      "metadata": {
        "id": "E6x76D1Pe4ll"
      },
      "source": [
        "# Hvorfor sælger de (ifølge data) ikke noget i maj?\n",
        "# Svar:"
      ],
      "execution_count": null,
      "outputs": []
    },
    {
      "cell_type": "markdown",
      "metadata": {
        "id": "0VFUASDmfCfi"
      },
      "source": [
        "#### Geografi"
      ]
    },
    {
      "cell_type": "code",
      "metadata": {
        "tags": [],
        "cell_id": "00037-ba7eaff8-4ac0-4bb0-92ee-c81818866633",
        "deepnote_to_be_reexecuted": false,
        "source_hash": "33dd9267",
        "execution_start": 1632864425590,
        "execution_millis": 12,
        "deepnote_cell_type": "code",
        "id": "quY9eaqpabmZ"
      },
      "source": [
        "# 4.1\n",
        "# Geografisk fordeling: Hvor mange bestillinger kommer der fra de forskellige nabolag\n",
        "\n",
        "sales.place.___()"
      ],
      "execution_count": null,
      "outputs": []
    },
    {
      "cell_type": "code",
      "metadata": {
        "tags": [],
        "cell_id": "00038-b22f63d1-b5a1-4d9a-8a33-f4c6c610ebf6",
        "deepnote_to_be_reexecuted": false,
        "source_hash": "8eeffb4b",
        "execution_start": 1632864425591,
        "execution_millis": 12,
        "deepnote_cell_type": "code",
        "id": "sB74HLIdabmZ"
      },
      "source": [
        "# Det samme igen bare vis andel\n",
        "sales.place.___(normalize=___)"
      ],
      "execution_count": null,
      "outputs": []
    },
    {
      "cell_type": "code",
      "metadata": {
        "tags": [],
        "cell_id": "00039-3f3c4a6e-1113-4f82-9bbc-bc151eb345d2",
        "deepnote_cell_type": "code",
        "id": "JksHD7ygabmZ"
      },
      "source": [
        "# Hvor stor er andelen af kunder, der kommer og henter sine søde sager?\n",
        "# Svar: "
      ],
      "execution_count": null,
      "outputs": []
    },
    {
      "cell_type": "code",
      "metadata": {
        "tags": [],
        "cell_id": "00022-09416ee4-6916-419e-8545-d380ff360fb2",
        "deepnote_to_be_reexecuted": false,
        "source_hash": "4416c029",
        "execution_start": 1632863900156,
        "execution_millis": 16,
        "deepnote_cell_type": "code",
        "id": "GxAJe7V7abmZ"
      },
      "source": [
        "# 4.2\n",
        "# hvem spiser mest? Beregn gennemsnit af calorier i bestillinger for de forskellige bydele\n",
        "# sorter fra højeste til laveste\n",
        "sales.___('___').___.___().sort_values(ascending=___)"
      ],
      "execution_count": null,
      "outputs": []
    },
    {
      "cell_type": "code",
      "metadata": {
        "tags": [],
        "cell_id": "00039-f468c2ba-fd26-42ea-8d6d-4dead54903b2",
        "deepnote_cell_type": "code",
        "id": "RDiqEHAVabmZ"
      },
      "source": [
        "# Er der nogle bydele hvor vi måske ikke skal stole på disse beregninger \n",
        "# hvis man tager hensyn til den beregning der blev foretaget inden?\n",
        "# Skriv navne på 1 eller 2\n",
        "\n",
        "# Svar:"
      ],
      "execution_count": null,
      "outputs": []
    },
    {
      "cell_type": "code",
      "metadata": {
        "tags": [],
        "cell_id": "00025-29fb6023-bae2-4970-bb70-dba6cec20b97",
        "deepnote_to_be_reexecuted": false,
        "source_hash": "260b8fad",
        "execution_start": 1632856544988,
        "execution_millis": 34,
        "deepnote_cell_type": "code",
        "id": "yZ0dH7__abmZ"
      },
      "source": [
        "# 4.3\n",
        "# Får vi et andet billede ved at se på gennemsnit af cal_per_item i de forskellige bydele?\n",
        "sales.___('___').___.___().___(ascending=False)"
      ],
      "execution_count": null,
      "outputs": []
    },
    {
      "cell_type": "markdown",
      "metadata": {
        "tags": [],
        "is_collapsed": false,
        "cell_id": "00050-215e7b1c-6681-46fd-a42f-fba0d08525bd",
        "deepnote_cell_type": "text-cell-h3",
        "id": "RKTpieFaabma"
      },
      "source": [
        "### Kaffee vs Croissant"
      ]
    },
    {
      "cell_type": "markdown",
      "metadata": {
        "tags": [],
        "cell_id": "00051-0c71233f-387e-4ce4-8dec-fa8c29259d7c",
        "deepnote_cell_type": "markdown",
        "id": "Tt07xSkBabma"
      },
      "source": [
        "Folk, der bestiller kaffee bestiller også croissant - eller hvad?\n",
        "Brug korrelation til at se om der måske er sammenhæng på uge-niveau."
      ]
    },
    {
      "cell_type": "code",
      "metadata": {
        "tags": [],
        "cell_id": "00009-61ab788e-21c8-4c6e-92e3-22c3ad539f56",
        "deepnote_to_be_reexecuted": false,
        "source_hash": "13136428",
        "execution_start": 1632856545368,
        "execution_millis": 0,
        "deepnote_cell_type": "code",
        "id": "fpSFnaKRabma"
      },
      "source": [
        "# 5.1\n",
        "# lav en ny variabel 'coffee' i weekly_sales, som summer værdier for americano, caffe_latte og vanila_latte\n",
        "weekly_sales['coffee'] = ___['___'] + ___['___'] + ___['___']"
      ],
      "execution_count": null,
      "outputs": []
    },
    {
      "cell_type": "code",
      "metadata": {
        "tags": [],
        "cell_id": "00010-6b22d259-cdb4-4040-a87f-b0ea2cb05553",
        "deepnote_to_be_reexecuted": false,
        "source_hash": "bdc3204f",
        "execution_start": 1632856545369,
        "execution_millis": 20,
        "deepnote_cell_type": "code",
        "id": "3HYNlcZ1abma"
      },
      "source": [
        "# 5.2\n",
        "# beregn en korrelationstabel for coffee, angbutter, plain_bread og vroissant\n",
        "weekly_sales[['___','___','___','___']].___()"
      ],
      "execution_count": null,
      "outputs": []
    },
    {
      "cell_type": "code",
      "metadata": {
        "tags": [],
        "cell_id": "00054-95af4641-4334-4412-a615-0d90d5118854",
        "deepnote_cell_type": "code",
        "id": "WjEMLiM1abmb"
      },
      "source": [
        "# Hvad kan vi mulighvis sige om kaffee vs croissaner (og de andre produkter)?\n",
        "# Svar:"
      ],
      "execution_count": null,
      "outputs": []
    }
  ]
}
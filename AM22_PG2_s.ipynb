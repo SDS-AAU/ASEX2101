{
  "nbformat": 4,
  "nbformat_minor": 0,
  "metadata": {
    "colab": {
      "name": "AM22 - PG2 - s.ipynb",
      "provenance": [],
      "authorship_tag": "ABX9TyNQhMBpDaHKNgqeNITrWueJ",
      "include_colab_link": true
    },
    "kernelspec": {
      "name": "python3",
      "display_name": "Python 3"
    },
    "language_info": {
      "name": "python"
    }
  },
  "cells": [
    {
      "cell_type": "markdown",
      "metadata": {
        "id": "view-in-github",
        "colab_type": "text"
      },
      "source": [
        "<a href=\"https://colab.research.google.com/github/SDS-AAU/ASEX22/blob/main/AM22_PG2_s.ipynb\" target=\"_parent\"><img src=\"https://colab.research.google.com/assets/colab-badge.svg\" alt=\"Open In Colab\"/></a>"
      ]
    },
    {
      "cell_type": "markdown",
      "metadata": {
        "id": "8GdNGHLbiX-B"
      },
      "source": [
        "# Opgave 1\n",
        "\n",
        "I denne del arbejder vi med funktionen $f(x) = 0.5x^3 + 5x^2 -37x + 89$"
      ]
    },
    {
      "cell_type": "code",
      "metadata": {
        "id": "XLH5llqNjPPj"
      },
      "source": [
        "# import af alle pakker, som der er brug for i opgaven\n",
        "\n",
        "import numpy as np\n",
        "import matplotlib.pyplot as plt\n",
        "from sympy import *"
      ],
      "execution_count": null,
      "outputs": []
    },
    {
      "cell_type": "markdown",
      "metadata": {
        "id": "GEFBcUVtjeG5"
      },
      "source": [
        "### 1.1 - Plot funktionen \n",
        "\n",
        "- brug numpy og pyplot/matplotlib\n",
        "- plot for $-15 ≤ x ≤ 15$"
      ]
    },
    {
      "cell_type": "code",
      "metadata": {
        "id": "C-0wzG0xCRRO"
      },
      "source": [
        "# brug np.linspace til at generere 100 værdier og plot funktionen\n",
        "x = ...\n",
        "y = ...\n",
        "\n",
        "plt.plot(...)"
      ],
      "execution_count": null,
      "outputs": []
    },
    {
      "cell_type": "markdown",
      "metadata": {
        "id": "1MT9F7Q5j26l"
      },
      "source": [
        "### 1.2 - Find sekantlinjen \n",
        "\n",
        "- Beregn den lineære ligning $s = mx+b$ der beskriver sekanten i de to punkter $x_1 = -10$ og $x_2 = 0$\n",
        "- Du skal først finde $y_1, y_2$ og $m, b$\n",
        "- plot $f(x)$ og $s(x)$\n",
        "\n",
        "OBS: der bruges lidt afvigende variabelbetegnelser (fra de matematiske udtryk) i koden.\n",
        "\n"
      ]
    },
    {
      "cell_type": "code",
      "metadata": {
        "id": "nxFlgnL8Wr-Q"
      },
      "source": [
        "# definer symboler og funktionen (brug x0 i stedet for x)\n",
        "x0 = symbols('x0')\n",
        "\n",
        "f = ...\n",
        "f"
      ],
      "execution_count": null,
      "outputs": []
    },
    {
      "cell_type": "code",
      "metadata": {
        "id": "o_6iBS12Wez2"
      },
      "source": [
        "# beregn y1 og y2 i SymPy\n",
        "x1 = -10\n",
        "x2 = 0\n",
        "\n",
        "y1 = f.subs(...)\n",
        "y2 = ..."
      ],
      "execution_count": null,
      "outputs": []
    },
    {
      "cell_type": "code",
      "metadata": {
        "id": "84jT0BZhW6M3"
      },
      "source": [
        "# beregn hældningen m\n",
        "m = (...)/(...)"
      ],
      "execution_count": null,
      "outputs": []
    },
    {
      "cell_type": "code",
      "metadata": {
        "id": "QDPC8yJpXBNT"
      },
      "source": [
        "# beregn b ved at omskrive s = m*x + b\n",
        "\n",
        "b = ..."
      ],
      "execution_count": null,
      "outputs": []
    },
    {
      "cell_type": "code",
      "metadata": {
        "id": "B_lOlb_OXVvY"
      },
      "source": [
        "# beregn alle s-værdier ved at indsætte x-værdier som blev genereret med linspace\n",
        "s = ..."
      ],
      "execution_count": null,
      "outputs": []
    },
    {
      "cell_type": "code",
      "metadata": {
        "id": "FS6uzNf9viKk"
      },
      "source": [
        "# plot f(x) og s(x) som går gennem x1 og x2\n",
        "plt.plot(...)\n",
        "plt.plot(...)"
      ],
      "execution_count": null,
      "outputs": []
    },
    {
      "cell_type": "markdown",
      "metadata": {
        "id": "xaCAdaqdX1Eo"
      },
      "source": [
        "### 1.3 - Find tangentlinjen \n",
        "\n",
        "- Beregn den lineære ligning $t = mx+b$ der beskriver tangenten i $x_3 = -6$\n",
        "- Du skal først finde $y_3$\n",
        "- Brug **differenskvotienten** og beregn hældning i $x_3$ for $\\lim_{h\\to0}$\n",
        "- plot $f(x)$ og $t(x)$\n",
        "\n",
        "OBS: der bruges lidt afvigende variablebetegnelser (fra de matematiske udtryk) i koden.\n"
      ]
    },
    {
      "cell_type": "code",
      "metadata": {
        "id": "Ae5Cz0fDCga_"
      },
      "source": [
        "# beregn y3 ved at indsætte x3\n",
        "\n",
        "x3 = -6\n",
        "y3 = ..."
      ],
      "execution_count": null,
      "outputs": []
    },
    {
      "cell_type": "code",
      "metadata": {
        "id": "4glbqzMDYEvR"
      },
      "source": [
        "# definer h symbollet\n",
        "h = symbols('h')"
      ],
      "execution_count": null,
      "outputs": []
    },
    {
      "cell_type": "code",
      "metadata": {
        "id": "qQV6fH2pY0NO"
      },
      "source": [
        "# definer f(x+h) ved at erstatte x0 for x0+h i f(x)\n",
        "fh = ..."
      ],
      "execution_count": null,
      "outputs": []
    },
    {
      "cell_type": "code",
      "metadata": {
        "id": "hgY4frxGY7zd"
      },
      "source": [
        "# definer ligninen for hældning af tangenten mt\n",
        "# udskriv mt og kontroler\n",
        "mt = ..."
      ],
      "execution_count": null,
      "outputs": []
    },
    {
      "cell_type": "markdown",
      "metadata": {
        "id": "f9HvBbl5wQ_y"
      },
      "source": [
        "Differenskvotienten burde være:\n",
        "$$\\frac{- 37 h - 0.5 x_{0}^{3} - 5 x_{0}^{2} + 0.5 \\left(h + x_{0}\\right)^{3} + 5 \\left(h + x_{0}\\right)^{2}}{h}$$"
      ]
    },
    {
      "cell_type": "code",
      "metadata": {
        "id": "3tXALDuAZDhP"
      },
      "source": [
        "# beregn hældningen m3 i x3 ved at regne grænseværdien for h -> 0 og indsætte x3\n",
        "\n",
        "h_o = mt.limit(...)\n",
        "m3 = ..."
      ],
      "execution_count": null,
      "outputs": []
    },
    {
      "cell_type": "code",
      "metadata": {
        "id": "P8_6suLLZq-2"
      },
      "source": [
        "# beregn b3 ved at omkskrive t = m3 * x + b3\n",
        "\n",
        "b3 = ..."
      ],
      "execution_count": null,
      "outputs": []
    },
    {
      "cell_type": "code",
      "metadata": {
        "id": "Fp9rvcDdaE-O"
      },
      "source": [
        "# beregn alle t-værdier ved at indsætte x-værdier som blev genereret med linspace\n",
        "t = ..."
      ],
      "execution_count": null,
      "outputs": []
    },
    {
      "cell_type": "code",
      "metadata": {
        "id": "hbxpvlVKxy9N"
      },
      "source": [
        "# plot f(x) og t(x) i x3\n",
        "plt.plot(...)\n",
        "plt.plot(...)"
      ],
      "execution_count": null,
      "outputs": []
    },
    {
      "cell_type": "markdown",
      "metadata": {
        "id": "0a2iHGStn2a0"
      },
      "source": [
        "### 1.4 - Find ekstrempunkter\n",
        "\n",
        "- Brug SymPy og differentering til at finde maximum og minimum i $f(x)$\n",
        "- Brug først `factor()` funktionen, som kan hjælpe med at finde ekstrempunkter \"manuelt\"\n",
        "- Vis derefter, hvordan man kan finde punkterne \"automatisk\"\n",
        "- Lav manuel test for min/max ved at se på ændinger i fortegn"
      ]
    },
    {
      "cell_type": "code",
      "metadata": {
        "id": "y0iEcYGYbY0F"
      },
      "source": [
        "# find den afledede funktion fd (sympy) og udskriv\n",
        "fd = ...\n",
        "fd"
      ],
      "execution_count": null,
      "outputs": []
    },
    {
      "cell_type": "code",
      "metadata": {
        "id": "5bagRSwmbGO6"
      },
      "source": [
        "# brug factor() funktionen til at faktorisere den afledede funktion; se, om du kan finde\n",
        "# de 2 ekstrempunkter uden videre beregning\n",
        "\n"
      ],
      "execution_count": null,
      "outputs": []
    },
    {
      "cell_type": "code",
      "metadata": {
        "id": "ob1jvXLTCxsc"
      },
      "source": [
        "# brug sympy til at finde de 2 ekstrempunkter\n",
        "..."
      ],
      "execution_count": null,
      "outputs": []
    },
    {
      "cell_type": "code",
      "metadata": {
        "id": "Y2h6BZzlDWZv"
      },
      "source": [
        "# generer værdier som kan bruges for at undersøge ændringer af fortegn\n",
        "sign_chart = [...]"
      ],
      "execution_count": null,
      "outputs": []
    },
    {
      "cell_type": "code",
      "metadata": {
        "id": "DeKB8eWPE0s3"
      },
      "source": [
        "# beregn hældningsværdier (list-comprehension)\n",
        "[fd.subs(...) for i in ...]"
      ],
      "execution_count": null,
      "outputs": []
    },
    {
      "cell_type": "markdown",
      "metadata": {
        "id": "VNgQVHOemABj"
      },
      "source": [
        "## Opgave2: Logistik og profitmaksimering\n",
        "\n"
      ]
    },
    {
      "cell_type": "markdown",
      "metadata": {
        "id": "xoVfEY7g0y0Z"
      },
      "source": [
        "En af Danmarks mindre containerhavne overvejer, om de skal justere deres daglige kapaciteter. \n",
        "$q$ er mængden af containere, $p$ en angivet i kr. pr. container, der kommer igennem havnen.\n",
        "\n",
        "* Deres omkostningsfunktion er:\n",
        "$C(q) = 6000-25q+0.03q^{2}+0.00009q^{3}$\n",
        "* Efterspørgslen er givet som:\n",
        "$p(q) = 320+0.025q-0.00085q^{2}$ dvs. prisen er ikke konstant men ændrer sig (lidt) med ændringer af $q$\n"
      ]
    },
    {
      "cell_type": "code",
      "metadata": {
        "id": "8OJjz7_oxIyY"
      },
      "source": [
        "# 2.1 plot C(q)\n",
        "# definer 200 punkter mellem 0 og 500 med np.linspace i objektet q_plot\n",
        "\n",
        "q_plot = ...\n",
        "\n",
        "# beregn tilsvarende p-værdier ud fra q_plot og plot C(q)\n",
        "\n",
        "p_plot_1 = ...\n",
        "\n",
        "plt.xlabel('Mængde (q)')\n",
        "plt.ylabel('Kr.')\n",
        "\n",
        "plt.plot(q_plot, p_plot_1, color = \"red\")"
      ],
      "execution_count": null,
      "outputs": []
    },
    {
      "cell_type": "code",
      "metadata": {
        "id": "bIJeEODi2A1K"
      },
      "source": [
        "# 2.2 Definer symboler p, q og h (kør bare)\n",
        "\n",
        "p, q, h = symbols('p, q, h')"
      ],
      "execution_count": null,
      "outputs": []
    },
    {
      "cell_type": "code",
      "metadata": {
        "id": "bXDGpg_o2EFb"
      },
      "source": [
        "# opstil sympy ligninger for omkostninger C(q) og efterspørgsel p(q)\n",
        "\n",
        "C_q = ...\n",
        "p_q = ..."
      ],
      "execution_count": null,
      "outputs": []
    },
    {
      "cell_type": "code",
      "metadata": {
        "id": "GCpktc0H2PFT"
      },
      "source": [
        "# vis C_q\n",
        "C_q"
      ],
      "execution_count": null,
      "outputs": []
    },
    {
      "cell_type": "code",
      "metadata": {
        "id": "dF4PJu7k2RMy"
      },
      "source": [
        "# vis p_q\n",
        "p_q"
      ],
      "execution_count": null,
      "outputs": []
    },
    {
      "cell_type": "markdown",
      "metadata": {
        "id": "pAEWGYSTrGSH"
      },
      "source": [
        "#### 2.3 Beregn minimum for $C(q)$\n",
        "\n",
        "* beregning skal foretages \"manuelt\" hvor du først skal finde $C'(q)$ ved at beregne $\\lim_{h \\to 0} \\frac{f(x + h) - f(x)}{h}$, hvor $C(q)$ indsættes for $f(x)$ dvs. $\\lim_{h \\to 0} \\frac{C(q + h) - C(q)}{h}$\n",
        "*$h$ blev allerede oprettet som Sympy symbol"
      ]
    },
    {
      "cell_type": "code",
      "metadata": {
        "id": "4Lbia_HAxJpo"
      },
      "source": [
        "# 2.3.1\n",
        "# definer C(q+h)\n",
        "\n",
        "C_q_h = C_q.subs(..., ...)"
      ],
      "execution_count": null,
      "outputs": []
    },
    {
      "cell_type": "code",
      "metadata": {
        "id": "eEE97s912T2s"
      },
      "source": [
        "# 2.3.2\n",
        "# beregn grænseværdien / marginalomkostninger MC\n",
        "\n",
        "MC = limit(..., ..., ...)\n",
        "MC"
      ],
      "execution_count": null,
      "outputs": []
    },
    {
      "cell_type": "code",
      "metadata": {
        "id": "rV8JfQjB2boD"
      },
      "source": [
        "# du kan tjekke, om grænseværdien er lige med den (automatisk) afledede funktion (sympy diff) for at være sikker...\n",
        "\n",
        "diff(C_q)\n",
        "\n",
        "# hvis du ikke kan løse 2.3.2, så må du gerne definere MC som diff(C_q) og bruge det herfra (bare uncomment)\n",
        "# MC = diff(C_q)"
      ],
      "execution_count": null,
      "outputs": []
    },
    {
      "cell_type": "code",
      "metadata": {
        "id": "C1zRxF4H2gct"
      },
      "source": [
        "# 2.3.3\n",
        "# hvor mange containere skal der igennem havnen per dag, hvis man vil minimere omkostninger?\n",
        "# brug Sympy solve til a finde q, hvor C minimeres\n",
        "solutions = solve(...)\n",
        "print(solutions)"
      ],
      "execution_count": null,
      "outputs": []
    },
    {
      "cell_type": "markdown",
      "metadata": {
        "id": "vyBsiZHqtIsB"
      },
      "source": [
        "#### 2.4 - Find tangentlinjen \n",
        "\n",
        "- Beregn den generelle lineære ligning $t = mx+b$  (eller hvis man bruger vores variabler, $p = mq + b $) der beskriver tangenten i $q_{t} = 100$\n",
        "- Du skal først finde $p_{t}$\n",
        "- Brug **MC** beregnet i 2.3 eller (hvis du ikke kunne finde svaret) ved at bruge sympy `diff` og beregn hældning $m$ i $q_{t}$\n",
        "- plot $C(q)$ og $t(q)$ i $q_{t} = 100$\n"
      ]
    },
    {
      "cell_type": "code",
      "metadata": {
        "id": "d3SL5M602sVY"
      },
      "source": [
        "# 2.4.1\n",
        "# beregning p_t\n",
        "p_t = C_q.subs(..., ...)\n",
        "print(p_t)"
      ],
      "execution_count": null,
      "outputs": []
    },
    {
      "cell_type": "code",
      "metadata": {
        "id": "qgXHRDTQ5zBm"
      },
      "source": [
        "# 2.4.2\n",
        "# beregning m\n",
        "m = MC.subs(..., ...)\n",
        "print(m)"
      ],
      "execution_count": null,
      "outputs": []
    },
    {
      "cell_type": "code",
      "metadata": {
        "id": "RBON0ch56h_x"
      },
      "source": [
        "# 2.4.3\n",
        "# beregn b\n",
        "\n",
        "b = ...\n",
        "print(b)"
      ],
      "execution_count": null,
      "outputs": []
    },
    {
      "cell_type": "code",
      "metadata": {
        "id": "fFvx5HK_7VTd"
      },
      "source": [
        "# 2.4.4\n",
        "# brug tangentlining t = mx + b for at beregne p_plot_t hvor du bruger q_plot (fra 2.1 som \"x\"-værdier) og de lige beregnede m og b\n",
        "p_plot_t = ..."
      ],
      "execution_count": null,
      "outputs": []
    },
    {
      "cell_type": "code",
      "metadata": {
        "id": "ZcyUfFuV7t5Y"
      },
      "source": [
        "# plot C(q) og t(q) - Bare udfør uden ændringer\n",
        "\n",
        "plt.xlabel('Mængde (q)')\n",
        "plt.ylabel('Kr.')\n",
        "\n",
        "plt.plot(q_plot, p_plot_1, color = \"red\")\n",
        "plt.plot(q_plot, p_plot_t, color = \"gold\")"
      ],
      "execution_count": null,
      "outputs": []
    },
    {
      "cell_type": "markdown",
      "metadata": {
        "id": "BFhGeUxDzjMX"
      },
      "source": [
        "\n",
        "* Indtægter: $R(q) = p(q) · q$\n",
        "* Marginalomkostninger $MC = C'(q)$ (omkostninger ved at producere +1 enhed)\n",
        "* Marginalindtægter $MR = R'(q)$ (indtægter ved at sælge +1 enhed)\n",
        "\n",
        "Monopol mængte er $q_{m}$ hvor $MC = MR$"
      ]
    },
    {
      "cell_type": "code",
      "metadata": {
        "id": "1lbdHuI47yzD"
      },
      "source": [
        "# 2.5.1 Definer R_q og MR (MC blev defineret tidligere)\n",
        "R_q = ...\n",
        "MR = ..."
      ],
      "execution_count": null,
      "outputs": []
    },
    {
      "cell_type": "code",
      "metadata": {
        "id": "OTIYerj5Dgbr"
      },
      "source": [
        "# 2.5.2 Opstil som ligninger MC(q) = p og MR(q) = p\n",
        "MC_eq = Eq(...,...)\n",
        "MR_eq = Eq(...,...)"
      ],
      "execution_count": null,
      "outputs": []
    },
    {
      "cell_type": "code",
      "metadata": {
        "id": "S_pRenIoDwfw"
      },
      "source": [
        "# Beregn monopolmænge og marginalpris hvor MC = MR med sympy solve\n",
        "solve([...,...])"
      ],
      "execution_count": null,
      "outputs": []
    }
  ]
}
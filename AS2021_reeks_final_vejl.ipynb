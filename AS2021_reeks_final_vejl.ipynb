{
  "nbformat": 4,
  "nbformat_minor": 0,
  "metadata": {
    "colab": {
      "name": "Copy of AS2021-reeks-final",
      "provenance": [],
      "collapsed_sections": [],
      "include_colab_link": true
    },
    "kernelspec": {
      "name": "python3",
      "display_name": "Python 3"
    },
    "language_info": {
      "name": "python"
    }
  },
  "cells": [
    {
      "cell_type": "markdown",
      "metadata": {
        "id": "view-in-github",
        "colab_type": "text"
      },
      "source": [
        "<a href=\"https://colab.research.google.com/github/SDS-AAU/ASEX22/blob/main/AS2021_reeks_final_vejl.ipynb\" target=\"_parent\"><img src=\"https://colab.research.google.com/assets/colab-badge.svg\" alt=\"Open In Colab\"/></a>"
      ]
    },
    {
      "cell_type": "markdown",
      "source": [
        "# Re-Eksamen: Anvendt Statistik 2021\n",
        "### Aalborg University Business School, HA 1. Semester\n",
        "#### Roman Jurowetzki; 5. Januar 2022\n",
        "\n",
        "#### Rules of the game:\n",
        "\n",
        "- Don't panic! - Hvis koden ikke virker (men virkede før). Gå tilbage, og kør oppefra ned. Også en god ide at tjekke, at koden er fejlfri ved at gøre denne øvelse undervejs.\n",
        "- Du må gerne bruge hjælpemidler og det forventes, at du kan slå funktioner op (f.eks: https://seaborn.pydata.org/api.html eller https://pandas.pydata.org/docs/reference/index.html#api)\n",
        "- LÆS!!! hvad der står og hvad du forventes at lave!\n",
        "- De fleste kodefejl er dumme stavefejl. Vær omhyggelig med kommaer, punktummer etc.\n",
        "- Hvis der er noget, som slet ikke kan løses, så kan du bare kommentere ud med `#`\n",
        "- Husk, at output skal kunne ses (f.eks. dine plots)\n",
        "- Play fair og lad være med at snyde! - Gruppearbejde er absolut IKKE tilladt.\n",
        "- Tjek AAU mail mht. mulige opdateringer fra undervisere undervejs\n",
        "- Brug kun objektnavne, der blev defineret i opgaven\n",
        "- Der afleveres som 👉 `ipynb` (**ikke PDF!**) - dvs, du skal bare downloade den fil, du arbejder med fra colab, eller bare aflevere den ipynb fil som du har åbent i Jupyter Lab."
      ],
      "metadata": {
        "id": "HHwPaDp9X4ai"
      }
    },
    {
      "cell_type": "code",
      "execution_count": null,
      "metadata": {
        "id": "EcnYycjDrz9h"
      },
      "outputs": [],
      "source": [
        "# Importér pakker og indstillinger til plotting\n",
        "\n",
        "import pandas as pd\n",
        "import matplotlib.pyplot as plt\n",
        "import seaborn as sns\n",
        "\n",
        "sns.set_style('darkgrid')\n",
        "sns.mpl.rcParams['figure.figsize'] = (15.0, 9.0)"
      ]
    },
    {
      "cell_type": "markdown",
      "source": [
        "# US Arbejdsmarked 1980 og COVID Vacciner 2021\n",
        "\n",
        "![](https://source.unsplash.com/FyvE6XPs5gk)\n",
        "\n",
        "Data som skal undersøges ved brug af beskrivende statistik kommer fra 2 kilder:\n",
        "* Data1: Angrist and Krueger (1991) “Does Compulsory School Attendance Affect Schooling and Earnings?” The Quarterly Journal of\n",
        "Economics (1991)\n",
        "\n",
        "* Data2: CSCs COVID-19 Vaccinations in the United States [COVID DATA TRACKER](https://covid.cdc.gov/covid-data-tracker/) (20/12 2021)\n",
        "\n",
        "I den første del af opgaven skal du forberede og analysere det første datasæt. Til sidst skal dette føres sammen med vaccine data for at se, om data, der beskriver US stater for over 40 år siden, muligvis stadigvæk kan forklare nogle mønstre i vaccinetilslutning idag.\n",
        "\n",
        "**Data 1: Besvarelser fra 82377 individer, 1980**\n",
        "\n",
        "\n",
        "| **Variable** | **Beskrivelse**                               |\n",
        "|----------|-------------------------------------------|\n",
        "| ageq     | alder inkl. kvartal                       |\n",
        "| edu      | højeste klassetrin afsluttet              |\n",
        "| logwage  | logaritme af indkomst/uge (\\$)             |\n",
        "| married  | gift:1, ellers:0                          |\n",
        "| state    | US Delstat, FIPS kode                     |\n",
        "| black    | sort:1, ellers:0                          |\n",
        "| smsa     | arbejder i \"metropolitan area\":1 ellers 0 |\n",
        "| yob      | fødselsår                                 |\n",
        "| wage     | indkomst/uge (\\$)                          |\n",
        "\n",
        "**Data 2: Vaccinetal/100k i delstater inkl. øer**\n",
        "\n",
        "* Vacciner givet til voksne per 100k inkl. alle stik og booster.\n",
        "* Delstat navn og FIPS code\n",
        "\n",
        "Du skal arbejde med 2 filer:\n",
        "- `data1.csv`\n",
        "- `data2.csv`\n",
        "\n",
        "Filerne findes også på:\n",
        "\n",
        "- `https://github.com/SDS-AAU/ASEX22/raw/main/data1.csv`\n",
        "- `https://github.com/SDS-AAU/ASEX22/raw/main/data2.csv`\n",
        "\n"
      ],
      "metadata": {
        "id": "MxNXOJ0zYfh0"
      }
    },
    {
      "cell_type": "code",
      "source": [
        "# 1.1\n",
        "# Brug pandas til at åbne datafiler (ingen zip, ingen specielle sep indstillinger)\n",
        "df = pd.read_csv('https://github.com/SDS-AAU/ASEX22/raw/main/data1.csv')"
      ],
      "metadata": {
        "id": "ImGohG3Usa7_"
      },
      "execution_count": null,
      "outputs": []
    },
    {
      "cell_type": "code",
      "source": [
        "# 1.2\n",
        "# Inspicér de første 5 rækker i datasættet\n",
        "df.head()"
      ],
      "metadata": {
        "colab": {
          "base_uri": "https://localhost:8080/",
          "height": 206
        },
        "id": "bJDAHUzWeoYT",
        "outputId": "4a40fc24-dfbc-4c7c-de55-0824ec3fea0d"
      },
      "execution_count": null,
      "outputs": [
        {
          "output_type": "execute_result",
          "data": {
            "text/html": [
              "\n",
              "  <div id=\"df-bd919b94-c213-4c73-9124-d983ed5c95de\">\n",
              "    <div class=\"colab-df-container\">\n",
              "      <div>\n",
              "<style scoped>\n",
              "    .dataframe tbody tr th:only-of-type {\n",
              "        vertical-align: middle;\n",
              "    }\n",
              "\n",
              "    .dataframe tbody tr th {\n",
              "        vertical-align: top;\n",
              "    }\n",
              "\n",
              "    .dataframe thead th {\n",
              "        text-align: right;\n",
              "    }\n",
              "</style>\n",
              "<table border=\"1\" class=\"dataframe\">\n",
              "  <thead>\n",
              "    <tr style=\"text-align: right;\">\n",
              "      <th></th>\n",
              "      <th>ageq</th>\n",
              "      <th>edu</th>\n",
              "      <th>logwage</th>\n",
              "      <th>married</th>\n",
              "      <th>state</th>\n",
              "      <th>black</th>\n",
              "      <th>smsa</th>\n",
              "      <th>yob</th>\n",
              "      <th>wage</th>\n",
              "    </tr>\n",
              "  </thead>\n",
              "  <tbody>\n",
              "    <tr>\n",
              "      <th>0</th>\n",
              "      <td>45.25</td>\n",
              "      <td>7.0</td>\n",
              "      <td>4.690818</td>\n",
              "      <td>1</td>\n",
              "      <td>22</td>\n",
              "      <td>0</td>\n",
              "      <td>1</td>\n",
              "      <td>1934</td>\n",
              "      <td>108.942258</td>\n",
              "    </tr>\n",
              "    <tr>\n",
              "      <th>1</th>\n",
              "      <td>46.25</td>\n",
              "      <td>15.0</td>\n",
              "      <td>6.001272</td>\n",
              "      <td>1</td>\n",
              "      <td>8</td>\n",
              "      <td>0</td>\n",
              "      <td>1</td>\n",
              "      <td>1933</td>\n",
              "      <td>403.942281</td>\n",
              "    </tr>\n",
              "    <tr>\n",
              "      <th>2</th>\n",
              "      <td>40.25</td>\n",
              "      <td>12.0</td>\n",
              "      <td>5.874553</td>\n",
              "      <td>0</td>\n",
              "      <td>29</td>\n",
              "      <td>0</td>\n",
              "      <td>1</td>\n",
              "      <td>1939</td>\n",
              "      <td>355.865553</td>\n",
              "    </tr>\n",
              "    <tr>\n",
              "      <th>3</th>\n",
              "      <td>41.00</td>\n",
              "      <td>17.0</td>\n",
              "      <td>6.175587</td>\n",
              "      <td>0</td>\n",
              "      <td>45</td>\n",
              "      <td>0</td>\n",
              "      <td>1</td>\n",
              "      <td>1939</td>\n",
              "      <td>480.865209</td>\n",
              "    </tr>\n",
              "    <tr>\n",
              "      <th>4</th>\n",
              "      <td>50.00</td>\n",
              "      <td>11.0</td>\n",
              "      <td>5.953992</td>\n",
              "      <td>1</td>\n",
              "      <td>9</td>\n",
              "      <td>0</td>\n",
              "      <td>1</td>\n",
              "      <td>1930</td>\n",
              "      <td>385.288344</td>\n",
              "    </tr>\n",
              "  </tbody>\n",
              "</table>\n",
              "</div>\n",
              "      <button class=\"colab-df-convert\" onclick=\"convertToInteractive('df-bd919b94-c213-4c73-9124-d983ed5c95de')\"\n",
              "              title=\"Convert this dataframe to an interactive table.\"\n",
              "              style=\"display:none;\">\n",
              "        \n",
              "  <svg xmlns=\"http://www.w3.org/2000/svg\" height=\"24px\"viewBox=\"0 0 24 24\"\n",
              "       width=\"24px\">\n",
              "    <path d=\"M0 0h24v24H0V0z\" fill=\"none\"/>\n",
              "    <path d=\"M18.56 5.44l.94 2.06.94-2.06 2.06-.94-2.06-.94-.94-2.06-.94 2.06-2.06.94zm-11 1L8.5 8.5l.94-2.06 2.06-.94-2.06-.94L8.5 2.5l-.94 2.06-2.06.94zm10 10l.94 2.06.94-2.06 2.06-.94-2.06-.94-.94-2.06-.94 2.06-2.06.94z\"/><path d=\"M17.41 7.96l-1.37-1.37c-.4-.4-.92-.59-1.43-.59-.52 0-1.04.2-1.43.59L10.3 9.45l-7.72 7.72c-.78.78-.78 2.05 0 2.83L4 21.41c.39.39.9.59 1.41.59.51 0 1.02-.2 1.41-.59l7.78-7.78 2.81-2.81c.8-.78.8-2.07 0-2.86zM5.41 20L4 18.59l7.72-7.72 1.47 1.35L5.41 20z\"/>\n",
              "  </svg>\n",
              "      </button>\n",
              "      \n",
              "  <style>\n",
              "    .colab-df-container {\n",
              "      display:flex;\n",
              "      flex-wrap:wrap;\n",
              "      gap: 12px;\n",
              "    }\n",
              "\n",
              "    .colab-df-convert {\n",
              "      background-color: #E8F0FE;\n",
              "      border: none;\n",
              "      border-radius: 50%;\n",
              "      cursor: pointer;\n",
              "      display: none;\n",
              "      fill: #1967D2;\n",
              "      height: 32px;\n",
              "      padding: 0 0 0 0;\n",
              "      width: 32px;\n",
              "    }\n",
              "\n",
              "    .colab-df-convert:hover {\n",
              "      background-color: #E2EBFA;\n",
              "      box-shadow: 0px 1px 2px rgba(60, 64, 67, 0.3), 0px 1px 3px 1px rgba(60, 64, 67, 0.15);\n",
              "      fill: #174EA6;\n",
              "    }\n",
              "\n",
              "    [theme=dark] .colab-df-convert {\n",
              "      background-color: #3B4455;\n",
              "      fill: #D2E3FC;\n",
              "    }\n",
              "\n",
              "    [theme=dark] .colab-df-convert:hover {\n",
              "      background-color: #434B5C;\n",
              "      box-shadow: 0px 1px 3px 1px rgba(0, 0, 0, 0.15);\n",
              "      filter: drop-shadow(0px 1px 2px rgba(0, 0, 0, 0.3));\n",
              "      fill: #FFFFFF;\n",
              "    }\n",
              "  </style>\n",
              "\n",
              "      <script>\n",
              "        const buttonEl =\n",
              "          document.querySelector('#df-bd919b94-c213-4c73-9124-d983ed5c95de button.colab-df-convert');\n",
              "        buttonEl.style.display =\n",
              "          google.colab.kernel.accessAllowed ? 'block' : 'none';\n",
              "\n",
              "        async function convertToInteractive(key) {\n",
              "          const element = document.querySelector('#df-bd919b94-c213-4c73-9124-d983ed5c95de');\n",
              "          const dataTable =\n",
              "            await google.colab.kernel.invokeFunction('convertToInteractive',\n",
              "                                                     [key], {});\n",
              "          if (!dataTable) return;\n",
              "\n",
              "          const docLinkHtml = 'Like what you see? Visit the ' +\n",
              "            '<a target=\"_blank\" href=https://colab.research.google.com/notebooks/data_table.ipynb>data table notebook</a>'\n",
              "            + ' to learn more about interactive tables.';\n",
              "          element.innerHTML = '';\n",
              "          dataTable['output_type'] = 'display_data';\n",
              "          await google.colab.output.renderOutput(dataTable, element);\n",
              "          const docLink = document.createElement('div');\n",
              "          docLink.innerHTML = docLinkHtml;\n",
              "          element.appendChild(docLink);\n",
              "        }\n",
              "      </script>\n",
              "    </div>\n",
              "  </div>\n",
              "  "
            ],
            "text/plain": [
              "    ageq   edu   logwage  married  state  black  smsa   yob        wage\n",
              "0  45.25   7.0  4.690818        1     22      0     1  1934  108.942258\n",
              "1  46.25  15.0  6.001272        1      8      0     1  1933  403.942281\n",
              "2  40.25  12.0  5.874553        0     29      0     1  1939  355.865553\n",
              "3  41.00  17.0  6.175587        0     45      0     1  1939  480.865209\n",
              "4  50.00  11.0  5.953992        1      9      0     1  1930  385.288344"
            ]
          },
          "metadata": {},
          "execution_count": 3
        }
      ]
    },
    {
      "cell_type": "code",
      "source": [
        "# Print info\n",
        "df.info()"
      ],
      "metadata": {
        "colab": {
          "base_uri": "https://localhost:8080/"
        },
        "id": "N0z2y0n7skgz",
        "outputId": "7fec9e93-07e4-40b0-fb16-1a1dd45918c7"
      },
      "execution_count": null,
      "outputs": [
        {
          "output_type": "stream",
          "name": "stdout",
          "text": [
            "<class 'pandas.core.frame.DataFrame'>\n",
            "RangeIndex: 82377 entries, 0 to 82376\n",
            "Data columns (total 9 columns):\n",
            " #   Column   Non-Null Count  Dtype  \n",
            "---  ------   --------------  -----  \n",
            " 0   ageq     82377 non-null  float64\n",
            " 1   edu      82355 non-null  float64\n",
            " 2   logwage  82335 non-null  float64\n",
            " 3   married  82377 non-null  int64  \n",
            " 4   state    82377 non-null  int64  \n",
            " 5   black    82377 non-null  int64  \n",
            " 6   smsa     82377 non-null  int64  \n",
            " 7   yob      82377 non-null  int64  \n",
            " 8   wage     82335 non-null  float64\n",
            "dtypes: float64(4), int64(5)\n",
            "memory usage: 5.7 MB\n"
          ]
        }
      ]
    },
    {
      "cell_type": "code",
      "source": [
        "# 1.2 Vis antal af manglende observationer for alle variable\n",
        "df.isnull().sum()"
      ],
      "metadata": {
        "colab": {
          "base_uri": "https://localhost:8080/"
        },
        "id": "ZwArZfCesl-p",
        "outputId": "578855a3-9aba-4c9f-a189-e5496cf8baf4"
      },
      "execution_count": null,
      "outputs": [
        {
          "output_type": "execute_result",
          "data": {
            "text/plain": [
              "ageq        0\n",
              "edu        22\n",
              "logwage    42\n",
              "married     0\n",
              "state       0\n",
              "black       0\n",
              "smsa        0\n",
              "yob         0\n",
              "wage       42\n",
              "dtype: int64"
            ]
          },
          "metadata": {},
          "execution_count": 5
        }
      ]
    },
    {
      "cell_type": "code",
      "source": [
        "# 1.3\n",
        "# Drop observationer hvor der mangler 'edu'; \n",
        "df.dropna(subset=['edu'], axis=0, inplace=True)"
      ],
      "metadata": {
        "id": "YymHQzFrtooK"
      },
      "execution_count": null,
      "outputs": []
    },
    {
      "cell_type": "code",
      "source": [
        "# 1.4\n",
        "# Brug gennemsnit for 'wage' til at udfylde de manglende værdier for \n",
        "# samme variable. Du kan beregne gennemsnit for 'wage' først eller \n",
        "# lave det hele i et skridt\n",
        "\n",
        "df['wage'].fillna(df['wage'].mean(), inplace=True)"
      ],
      "metadata": {
        "id": "vCiFm1Rts2or"
      },
      "execution_count": null,
      "outputs": []
    },
    {
      "cell_type": "code",
      "source": [
        "# 1.5 \n",
        "# Beregn beskrivende statistikker, inkl. min/max/percentiler/standardafvigelse mm.\n",
        "# for df['wage']\n",
        "\n",
        "df['wage'].describe()"
      ],
      "metadata": {
        "colab": {
          "base_uri": "https://localhost:8080/"
        },
        "id": "MP_KTAlWuawv",
        "outputId": "b58d78bd-5219-4b69-a732-be01e43bd3f5"
      },
      "execution_count": null,
      "outputs": [
        {
          "output_type": "execute_result",
          "data": {
            "text/plain": [
              "count    82355.000000\n",
              "mean       438.992204\n",
              "std        374.210774\n",
              "min          0.096154\n",
              "25%        280.200103\n",
              "50%        385.096133\n",
              "75%        520.937462\n",
              "max      37500.142052\n",
              "Name: wage, dtype: float64"
            ]
          },
          "metadata": {},
          "execution_count": 8
        }
      ]
    },
    {
      "cell_type": "code",
      "source": [
        "# Plot histogram for df['wage']\n",
        "sns.displot(df['wage'])"
      ],
      "metadata": {
        "colab": {
          "base_uri": "https://localhost:8080/",
          "height": 386
        },
        "id": "CG5famURu1HJ",
        "outputId": "0f9953bc-d7be-4005-e5c4-543f504c7732"
      },
      "execution_count": null,
      "outputs": [
        {
          "output_type": "execute_result",
          "data": {
            "text/plain": [
              "<seaborn.axisgrid.FacetGrid at 0x7fe6ac534350>"
            ]
          },
          "metadata": {},
          "execution_count": 9
        },
        {
          "output_type": "display_data",
          "data": {
            "image/png": "[encoded data removed]",
            "text/plain": [
              "<Figure size 360x360 with 1 Axes>"
            ]
          },
          "metadata": {
            "needs_background": "light"
          }
        }
      ]
    },
    {
      "cell_type": "markdown",
      "source": [
        "Brug fordelingen af `wage` variablen til at fjerne ekstreme værdier (outliers).\n",
        "Brug interkvartilområde (interquartile range, IQR) $Q_3-Q_1$ og 3. kvartil til at beregne den øvere begrænsning $Q_3 + 1.5*IQR$.\n",
        "\n",
        "OBS:\n",
        "$Q_1$ = 25 percentil\n",
        "$Q_3$ = 75 percentil"
      ],
      "metadata": {
        "id": "1SJbETG7hnE7"
      }
    },
    {
      "cell_type": "code",
      "source": [
        "# 1.6\n",
        "# Beregn IQR - Q3-Q1: 'iqr'\n",
        "iqr = df['wage'].quantile(0.75) - df['wage'].quantile(0.25)"
      ],
      "metadata": {
        "id": "qJAUYpxtvJBl"
      },
      "execution_count": null,
      "outputs": []
    },
    {
      "cell_type": "code",
      "source": [
        "# Beregn øvre begrænsning Q3+1.5*IQR: 'upper_bound'\n",
        "upper_bound = df['wage'].quantile(0.75) + iqr"
      ],
      "metadata": {
        "id": "OgCvpaIGvjAz"
      },
      "execution_count": null,
      "outputs": []
    },
    {
      "cell_type": "code",
      "source": [
        "# 1.7\n",
        "# Brug upper_bound til at fjerne outliers\n",
        "# dvs. ingen observationer, hvor df['wage'] >= upper_bound\n",
        "# Lav ger en ny dataframe: 'df_clean'\n",
        "\n",
        "df_clean = df[df['wage'] < upper_bound]"
      ],
      "metadata": {
        "id": "OYZZlZp-vUJD"
      },
      "execution_count": null,
      "outputs": []
    },
    {
      "cell_type": "code",
      "source": [
        "# 1.8\n",
        "# Hvor mange observationer (% af dataframe df) bliver fjernet?\n",
        "# du kan bruge 'len' funktionen til at se antal af observationer i en dataframe\n",
        "(len(df) - len(df_clean))/len(df) * 100"
      ],
      "metadata": {
        "colab": {
          "base_uri": "https://localhost:8080/"
        },
        "id": "iDqBgzpKya8m",
        "outputId": "5e098bd3-7642-47c7-d911-3a475fbed6af"
      },
      "execution_count": null,
      "outputs": [
        {
          "output_type": "execute_result",
          "data": {
            "text/plain": [
              "8.090583449699471"
            ]
          },
          "metadata": {},
          "execution_count": 13
        }
      ]
    },
    {
      "cell_type": "markdown",
      "source": [
        "👉 **Brug `df_clean` i alle analyser herfra**"
      ],
      "metadata": {
        "id": "lQmFgdM9pOcH"
      }
    },
    {
      "cell_type": "code",
      "source": [
        "# 1.9\n",
        "# Beregn beskrivende statistikker (automatisk funktion), inkl. min/max/percentiler/standardafvigelse mm.\n",
        "# for 'wage' i den nye dataframe df_clean\n",
        "df_clean['wage'].describe()"
      ],
      "metadata": {
        "colab": {
          "base_uri": "https://localhost:8080/"
        },
        "id": "UjOVK7lAvUvM",
        "outputId": "3645df3a-a8e4-4f98-b00c-daeb3faba942"
      },
      "execution_count": null,
      "outputs": [
        {
          "output_type": "execute_result",
          "data": {
            "text/plain": [
              "count    75692.000000\n",
              "mean       378.605342\n",
              "std        156.881598\n",
              "min          0.096154\n",
              "25%        269.326931\n",
              "50%        380.300413\n",
              "75%        480.865209\n",
              "max        761.634666\n",
              "Name: wage, dtype: float64"
            ]
          },
          "metadata": {},
          "execution_count": 14
        }
      ]
    },
    {
      "cell_type": "code",
      "source": [
        "# plot et histogram for df_clean['wage']\n",
        "sns.displot(df_clean['wage'])"
      ],
      "metadata": {
        "colab": {
          "base_uri": "https://localhost:8080/",
          "height": 386
        },
        "id": "eY_BnLoinGIm",
        "outputId": "71cfc124-3f30-4f4e-d499-cd77d1732a1a"
      },
      "execution_count": null,
      "outputs": [
        {
          "output_type": "execute_result",
          "data": {
            "text/plain": [
              "<seaborn.axisgrid.FacetGrid at 0x7f82d47c1d10>"
            ]
          },
          "metadata": {},
          "execution_count": 15
        },
        {
          "output_type": "display_data",
          "data": {
            "image/png": "[encoded data removed]",
            "text/plain": [
              "<Figure size 360x360 with 1 Axes>"
            ]
          },
          "metadata": {
            "needs_background": "light"
          }
        }
      ]
    },
    {
      "cell_type": "markdown",
      "source": [
        "Forklar begrebet `standardafvigelse` (matematisk samt fortolkning i vores eksempel). Hvorfor er værdien mere end halveret, hvis vi sammenligner resultatet fra 1.5 og 1.9?\n",
        "\n",
        "![](https://wikimedia.org/api/rest_v1/media/math/render/svg/98f02417b7c2830d941364f6b40e22ea63a9dd1f)\n",
        "- Standardafvigelse er kvardratroden af summen af xi-mu(gennemsnit) divideret med N\n",
        "- Standradafvigelse beskriver et standartiseret mål af spredning\n",
        "- Standardafvigelsen reduceres, da vi fjerner outliers, hvilke medfører en del høje Xi-mu værdier\n"
      ],
      "metadata": {
        "id": "PsM07Ntcnf2s"
      }
    },
    {
      "cell_type": "code",
      "source": [
        "# 2.1\n",
        "# Lav boxplot af df_clean['wage'] vs 'smsa' (y) og 'married' som farve\n",
        "sns.boxplot(data = df_clean, x='wage', y='smsa', hue='married', orient='h')"
      ],
      "metadata": {
        "colab": {
          "base_uri": "https://localhost:8080/",
          "height": 296
        },
        "id": "f8ig9Y0Fw-V6",
        "outputId": "981b8660-4c9e-4348-b694-fbaf4cd0b892"
      },
      "execution_count": null,
      "outputs": [
        {
          "output_type": "execute_result",
          "data": {
            "text/plain": [
              "<matplotlib.axes._subplots.AxesSubplot at 0x7f82d46c76d0>"
            ]
          },
          "metadata": {},
          "execution_count": 16
        },
        {
          "output_type": "display_data",
          "data": {
            "image/png": "[encoded data removed]",
            "text/plain": [
              "<Figure size 432x288 with 1 Axes>"
            ]
          },
          "metadata": {
            "needs_background": "light"
          }
        }
      ]
    },
    {
      "cell_type": "markdown",
      "source": [
        "Hvad kan du observere?\n",
        "\n",
        "- Fordeling gift/ikke gift: højere gennemsnit for gift, lignende spredning\n",
        "- SMSA 1/0: højere niveauer, fordeling for både gift/ikke-gift; der er flere ourliers for SMSA==0, muligvis grundet højere N"
      ],
      "metadata": {
        "id": "etJOY_0sp1qz"
      }
    },
    {
      "cell_type": "code",
      "source": [
        "# 2.2 \n",
        "# Lav krydstabel for 'married' vs 'black', vis relative værdier \n",
        "# (horizontal sum af rækker/index = 1)\n",
        "pd.crosstab(df_clean['black'], df_clean['married'], normalize='index')"
      ],
      "metadata": {
        "colab": {
          "base_uri": "https://localhost:8080/",
          "height": 143
        },
        "id": "dVfelBNhxQkp",
        "outputId": "9f26fc1a-712b-48c3-d1b6-4e2a7418dea7"
      },
      "execution_count": null,
      "outputs": [
        {
          "output_type": "execute_result",
          "data": {
            "text/html": [
              "\n",
              "  <div id=\"df-50b410c9-62b8-490d-8ffe-015342aac6fb\">\n",
              "    <div class=\"colab-df-container\">\n",
              "      <div>\n",
              "<style scoped>\n",
              "    .dataframe tbody tr th:only-of-type {\n",
              "        vertical-align: middle;\n",
              "    }\n",
              "\n",
              "    .dataframe tbody tr th {\n",
              "        vertical-align: top;\n",
              "    }\n",
              "\n",
              "    .dataframe thead th {\n",
              "        text-align: right;\n",
              "    }\n",
              "</style>\n",
              "<table border=\"1\" class=\"dataframe\">\n",
              "  <thead>\n",
              "    <tr style=\"text-align: right;\">\n",
              "      <th>married</th>\n",
              "      <th>0</th>\n",
              "      <th>1</th>\n",
              "    </tr>\n",
              "    <tr>\n",
              "      <th>black</th>\n",
              "      <th></th>\n",
              "      <th></th>\n",
              "    </tr>\n",
              "  </thead>\n",
              "  <tbody>\n",
              "    <tr>\n",
              "      <th>0</th>\n",
              "      <td>0.129442</td>\n",
              "      <td>0.870558</td>\n",
              "    </tr>\n",
              "    <tr>\n",
              "      <th>1</th>\n",
              "      <td>0.263198</td>\n",
              "      <td>0.736802</td>\n",
              "    </tr>\n",
              "  </tbody>\n",
              "</table>\n",
              "</div>\n",
              "      <button class=\"colab-df-convert\" onclick=\"convertToInteractive('df-50b410c9-62b8-490d-8ffe-015342aac6fb')\"\n",
              "              title=\"Convert this dataframe to an interactive table.\"\n",
              "              style=\"display:none;\">\n",
              "        \n",
              "  <svg xmlns=\"http://www.w3.org/2000/svg\" height=\"24px\"viewBox=\"0 0 24 24\"\n",
              "       width=\"24px\">\n",
              "    <path d=\"M0 0h24v24H0V0z\" fill=\"none\"/>\n",
              "    <path d=\"M18.56 5.44l.94 2.06.94-2.06 2.06-.94-2.06-.94-.94-2.06-.94 2.06-2.06.94zm-11 1L8.5 8.5l.94-2.06 2.06-.94-2.06-.94L8.5 2.5l-.94 2.06-2.06.94zm10 10l.94 2.06.94-2.06 2.06-.94-2.06-.94-.94-2.06-.94 2.06-2.06.94z\"/><path d=\"M17.41 7.96l-1.37-1.37c-.4-.4-.92-.59-1.43-.59-.52 0-1.04.2-1.43.59L10.3 9.45l-7.72 7.72c-.78.78-.78 2.05 0 2.83L4 21.41c.39.39.9.59 1.41.59.51 0 1.02-.2 1.41-.59l7.78-7.78 2.81-2.81c.8-.78.8-2.07 0-2.86zM5.41 20L4 18.59l7.72-7.72 1.47 1.35L5.41 20z\"/>\n",
              "  </svg>\n",
              "      </button>\n",
              "      \n",
              "  <style>\n",
              "    .colab-df-container {\n",
              "      display:flex;\n",
              "      flex-wrap:wrap;\n",
              "      gap: 12px;\n",
              "    }\n",
              "\n",
              "    .colab-df-convert {\n",
              "      background-color: #E8F0FE;\n",
              "      border: none;\n",
              "      border-radius: 50%;\n",
              "      cursor: pointer;\n",
              "      display: none;\n",
              "      fill: #1967D2;\n",
              "      height: 32px;\n",
              "      padding: 0 0 0 0;\n",
              "      width: 32px;\n",
              "    }\n",
              "\n",
              "    .colab-df-convert:hover {\n",
              "      background-color: #E2EBFA;\n",
              "      box-shadow: 0px 1px 2px rgba(60, 64, 67, 0.3), 0px 1px 3px 1px rgba(60, 64, 67, 0.15);\n",
              "      fill: #174EA6;\n",
              "    }\n",
              "\n",
              "    [theme=dark] .colab-df-convert {\n",
              "      background-color: #3B4455;\n",
              "      fill: #D2E3FC;\n",
              "    }\n",
              "\n",
              "    [theme=dark] .colab-df-convert:hover {\n",
              "      background-color: #434B5C;\n",
              "      box-shadow: 0px 1px 3px 1px rgba(0, 0, 0, 0.15);\n",
              "      filter: drop-shadow(0px 1px 2px rgba(0, 0, 0, 0.3));\n",
              "      fill: #FFFFFF;\n",
              "    }\n",
              "  </style>\n",
              "\n",
              "      <script>\n",
              "        const buttonEl =\n",
              "          document.querySelector('#df-50b410c9-62b8-490d-8ffe-015342aac6fb button.colab-df-convert');\n",
              "        buttonEl.style.display =\n",
              "          google.colab.kernel.accessAllowed ? 'block' : 'none';\n",
              "\n",
              "        async function convertToInteractive(key) {\n",
              "          const element = document.querySelector('#df-50b410c9-62b8-490d-8ffe-015342aac6fb');\n",
              "          const dataTable =\n",
              "            await google.colab.kernel.invokeFunction('convertToInteractive',\n",
              "                                                     [key], {});\n",
              "          if (!dataTable) return;\n",
              "\n",
              "          const docLinkHtml = 'Like what you see? Visit the ' +\n",
              "            '<a target=\"_blank\" href=https://colab.research.google.com/notebooks/data_table.ipynb>data table notebook</a>'\n",
              "            + ' to learn more about interactive tables.';\n",
              "          element.innerHTML = '';\n",
              "          dataTable['output_type'] = 'display_data';\n",
              "          await google.colab.output.renderOutput(dataTable, element);\n",
              "          const docLink = document.createElement('div');\n",
              "          docLink.innerHTML = docLinkHtml;\n",
              "          element.appendChild(docLink);\n",
              "        }\n",
              "      </script>\n",
              "    </div>\n",
              "  </div>\n",
              "  "
            ],
            "text/plain": [
              "married         0         1\n",
              "black                      \n",
              "0        0.129442  0.870558\n",
              "1        0.263198  0.736802"
            ]
          },
          "metadata": {},
          "execution_count": 17
        }
      ]
    },
    {
      "cell_type": "markdown",
      "source": [
        "andel af sorte, som er gift: 0.74"
      ],
      "metadata": {
        "id": "I6sEFi1frSGZ"
      }
    },
    {
      "cell_type": "code",
      "source": [
        "# 2.3 \n",
        "# Inddel observationerne i 3 kategorier mht. uddannelsesniveau\n",
        "# 0-11: low; 12-13: med; 14+: high\n",
        "\n",
        "# OBS: den øvre grænse er inkluderet pga. right=True\n",
        "# dvs [0,11] --> 0-11; ikke 0-10\n",
        "# der kan komme en \"SettingWithCopyWarning\" hvilket ikke er en fejl.\n",
        "\n",
        "levels = [0, 11, 13, 50] # grænser\n",
        "names = ['low','med','high'] # navne til kategorier\n",
        "\n",
        "df_clean['edu_cat'] = pd.cut(df_clean['edu'], bins=levels, labels=names, right=True)"
      ],
      "metadata": {
        "colab": {
          "base_uri": "https://localhost:8080/"
        },
        "id": "_lKVgnj70-Z6",
        "outputId": "0aafb7ed-8cc0-4002-dc7a-32fd41f79ffe"
      },
      "execution_count": null,
      "outputs": [
        {
          "output_type": "stream",
          "name": "stderr",
          "text": [
            "/usr/local/lib/python3.7/dist-packages/ipykernel_launcher.py:12: SettingWithCopyWarning: \n",
            "A value is trying to be set on a copy of a slice from a DataFrame.\n",
            "Try using .loc[row_indexer,col_indexer] = value instead\n",
            "\n",
            "See the caveats in the documentation: https://pandas.pydata.org/pandas-docs/stable/user_guide/indexing.html#returning-a-view-versus-a-copy\n",
            "  if sys.path[0] == '':\n"
          ]
        }
      ]
    },
    {
      "cell_type": "code",
      "source": [
        "# Lav krydstabel for 'edu_cat' vs 'smsa'\n",
        "# vis relative værdier (vertikal sum per kolonne = 1)\n",
        "\n",
        "pd.crosstab(df_clean['edu_cat'], df_clean['smsa'], normalize='columns')"
      ],
      "metadata": {
        "colab": {
          "base_uri": "https://localhost:8080/",
          "height": 174
        },
        "id": "nB5sG6Nv0mgS",
        "outputId": "89c39f3a-8f20-46b9-cd98-a84e8b7473a1"
      },
      "execution_count": null,
      "outputs": [
        {
          "output_type": "execute_result",
          "data": {
            "text/html": [
              "\n",
              "  <div id=\"df-1f67df76-117c-4102-b384-b47bc97ac4cc\">\n",
              "    <div class=\"colab-df-container\">\n",
              "      <div>\n",
              "<style scoped>\n",
              "    .dataframe tbody tr th:only-of-type {\n",
              "        vertical-align: middle;\n",
              "    }\n",
              "\n",
              "    .dataframe tbody tr th {\n",
              "        vertical-align: top;\n",
              "    }\n",
              "\n",
              "    .dataframe thead th {\n",
              "        text-align: right;\n",
              "    }\n",
              "</style>\n",
              "<table border=\"1\" class=\"dataframe\">\n",
              "  <thead>\n",
              "    <tr style=\"text-align: right;\">\n",
              "      <th>smsa</th>\n",
              "      <th>0</th>\n",
              "      <th>1</th>\n",
              "    </tr>\n",
              "    <tr>\n",
              "      <th>edu_cat</th>\n",
              "      <th></th>\n",
              "      <th></th>\n",
              "    </tr>\n",
              "  </thead>\n",
              "  <tbody>\n",
              "    <tr>\n",
              "      <th>low</th>\n",
              "      <td>0.314071</td>\n",
              "      <td>0.223764</td>\n",
              "    </tr>\n",
              "    <tr>\n",
              "      <th>med</th>\n",
              "      <td>0.468754</td>\n",
              "      <td>0.446441</td>\n",
              "    </tr>\n",
              "    <tr>\n",
              "      <th>high</th>\n",
              "      <td>0.217175</td>\n",
              "      <td>0.329795</td>\n",
              "    </tr>\n",
              "  </tbody>\n",
              "</table>\n",
              "</div>\n",
              "      <button class=\"colab-df-convert\" onclick=\"convertToInteractive('df-1f67df76-117c-4102-b384-b47bc97ac4cc')\"\n",
              "              title=\"Convert this dataframe to an interactive table.\"\n",
              "              style=\"display:none;\">\n",
              "        \n",
              "  <svg xmlns=\"http://www.w3.org/2000/svg\" height=\"24px\"viewBox=\"0 0 24 24\"\n",
              "       width=\"24px\">\n",
              "    <path d=\"M0 0h24v24H0V0z\" fill=\"none\"/>\n",
              "    <path d=\"M18.56 5.44l.94 2.06.94-2.06 2.06-.94-2.06-.94-.94-2.06-.94 2.06-2.06.94zm-11 1L8.5 8.5l.94-2.06 2.06-.94-2.06-.94L8.5 2.5l-.94 2.06-2.06.94zm10 10l.94 2.06.94-2.06 2.06-.94-2.06-.94-.94-2.06-.94 2.06-2.06.94z\"/><path d=\"M17.41 7.96l-1.37-1.37c-.4-.4-.92-.59-1.43-.59-.52 0-1.04.2-1.43.59L10.3 9.45l-7.72 7.72c-.78.78-.78 2.05 0 2.83L4 21.41c.39.39.9.59 1.41.59.51 0 1.02-.2 1.41-.59l7.78-7.78 2.81-2.81c.8-.78.8-2.07 0-2.86zM5.41 20L4 18.59l7.72-7.72 1.47 1.35L5.41 20z\"/>\n",
              "  </svg>\n",
              "      </button>\n",
              "      \n",
              "  <style>\n",
              "    .colab-df-container {\n",
              "      display:flex;\n",
              "      flex-wrap:wrap;\n",
              "      gap: 12px;\n",
              "    }\n",
              "\n",
              "    .colab-df-convert {\n",
              "      background-color: #E8F0FE;\n",
              "      border: none;\n",
              "      border-radius: 50%;\n",
              "      cursor: pointer;\n",
              "      display: none;\n",
              "      fill: #1967D2;\n",
              "      height: 32px;\n",
              "      padding: 0 0 0 0;\n",
              "      width: 32px;\n",
              "    }\n",
              "\n",
              "    .colab-df-convert:hover {\n",
              "      background-color: #E2EBFA;\n",
              "      box-shadow: 0px 1px 2px rgba(60, 64, 67, 0.3), 0px 1px 3px 1px rgba(60, 64, 67, 0.15);\n",
              "      fill: #174EA6;\n",
              "    }\n",
              "\n",
              "    [theme=dark] .colab-df-convert {\n",
              "      background-color: #3B4455;\n",
              "      fill: #D2E3FC;\n",
              "    }\n",
              "\n",
              "    [theme=dark] .colab-df-convert:hover {\n",
              "      background-color: #434B5C;\n",
              "      box-shadow: 0px 1px 3px 1px rgba(0, 0, 0, 0.15);\n",
              "      filter: drop-shadow(0px 1px 2px rgba(0, 0, 0, 0.3));\n",
              "      fill: #FFFFFF;\n",
              "    }\n",
              "  </style>\n",
              "\n",
              "      <script>\n",
              "        const buttonEl =\n",
              "          document.querySelector('#df-1f67df76-117c-4102-b384-b47bc97ac4cc button.colab-df-convert');\n",
              "        buttonEl.style.display =\n",
              "          google.colab.kernel.accessAllowed ? 'block' : 'none';\n",
              "\n",
              "        async function convertToInteractive(key) {\n",
              "          const element = document.querySelector('#df-1f67df76-117c-4102-b384-b47bc97ac4cc');\n",
              "          const dataTable =\n",
              "            await google.colab.kernel.invokeFunction('convertToInteractive',\n",
              "                                                     [key], {});\n",
              "          if (!dataTable) return;\n",
              "\n",
              "          const docLinkHtml = 'Like what you see? Visit the ' +\n",
              "            '<a target=\"_blank\" href=https://colab.research.google.com/notebooks/data_table.ipynb>data table notebook</a>'\n",
              "            + ' to learn more about interactive tables.';\n",
              "          element.innerHTML = '';\n",
              "          dataTable['output_type'] = 'display_data';\n",
              "          await google.colab.output.renderOutput(dataTable, element);\n",
              "          const docLink = document.createElement('div');\n",
              "          docLink.innerHTML = docLinkHtml;\n",
              "          element.appendChild(docLink);\n",
              "        }\n",
              "      </script>\n",
              "    </div>\n",
              "  </div>\n",
              "  "
            ],
            "text/plain": [
              "smsa            0         1\n",
              "edu_cat                    \n",
              "low      0.314071  0.223764\n",
              "med      0.468754  0.446441\n",
              "high     0.217175  0.329795"
            ]
          },
          "metadata": {},
          "execution_count": 19
        }
      ]
    },
    {
      "cell_type": "markdown",
      "source": [
        "Fortolk resultater mht. forskelle i fordelingen af uddannelsesniveauer i urbane og landlige områder.\n",
        "\n",
        "- flere højuddannede i urbane områder\n",
        "- flere lavt uddannede på landet\n",
        "- flere med mellemhøje uddannelser på landet"
      ],
      "metadata": {
        "id": "t18Eo7BxbiLw"
      }
    },
    {
      "cell_type": "code",
      "source": [
        "# 2.4\n",
        "# Lav en ny Dataframe \"df_flms\" kun med observationer fra \n",
        "# Florida (12) og Massachusetts (25)\n",
        "\n",
        "df_flms = df_clean[df_clean['state'].isin([12,25])]"
      ],
      "metadata": {
        "id": "JD_8wZUC2DSs"
      },
      "execution_count": null,
      "outputs": []
    },
    {
      "cell_type": "code",
      "source": [
        "# hvor mange observationer er der for hver af de 2 stater (i den nye dataframe df_flms)?\n",
        "df_flms['state'].value_counts()"
      ],
      "metadata": {
        "colab": {
          "base_uri": "https://localhost:8080/"
        },
        "id": "8EnFfplkqkYU",
        "outputId": "08bbc72c-4958-4617-f339-d3f55cca26c7"
      },
      "execution_count": null,
      "outputs": [
        {
          "output_type": "execute_result",
          "data": {
            "text/plain": [
              "25    2233\n",
              "12     896\n",
              "Name: state, dtype: int64"
            ]
          },
          "metadata": {},
          "execution_count": 21
        }
      ]
    },
    {
      "cell_type": "code",
      "source": [
        "# histogram / sns.displot funktion af 'edu' med state som farveinddeling\n",
        "sns.displot(data = df_flms, x='edu', hue='state', kind='hist')"
      ],
      "metadata": {
        "colab": {
          "base_uri": "https://localhost:8080/",
          "height": 386
        },
        "id": "AjmgnsEN2NIR",
        "outputId": "e5133e31-decb-4954-febb-9ca7825a801b"
      },
      "execution_count": null,
      "outputs": [
        {
          "output_type": "execute_result",
          "data": {
            "text/plain": [
              "<seaborn.axisgrid.FacetGrid at 0x7f82d666fa90>"
            ]
          },
          "metadata": {},
          "execution_count": 22
        },
        {
          "output_type": "display_data",
          "data": {
            "image/png": "[encoded data removed]",
            "text/plain": [
              "<Figure size 408.75x360 with 1 Axes>"
            ]
          },
          "metadata": {
            "needs_background": "light"
          }
        }
      ]
    },
    {
      "cell_type": "markdown",
      "source": [
        "Kort fortolkning af, hvad histogrammet viser:\n",
        "\n",
        "- Massachusetts har næsten ingen observationer uden uddannelse (edu < 7.5)\n",
        "- Andele ligner henanden mellem 7.5 og 13. \n",
        "- 13+ har Mass. konsistent højere andele af observationer."
      ],
      "metadata": {
        "id": "aKjWg_meqQdp"
      }
    },
    {
      "cell_type": "markdown",
      "source": [
        "👉 **Brug `df_clean` igen herfra**"
      ],
      "metadata": {
        "id": "KM_AJZ3-w_m_"
      }
    },
    {
      "cell_type": "code",
      "source": [
        "# 2.5\n",
        "# Beregn korrelation af 'wage' og 'edu'\n",
        "df_clean['wage'].corr(df_clean['edu'])"
      ],
      "metadata": {
        "colab": {
          "base_uri": "https://localhost:8080/"
        },
        "id": "TBV6VF975T41",
        "outputId": "ca2a2978-8993-436d-86b7-57dcb4888988"
      },
      "execution_count": null,
      "outputs": [
        {
          "output_type": "execute_result",
          "data": {
            "text/plain": [
              "0.3515496193887311"
            ]
          },
          "metadata": {},
          "execution_count": 23
        }
      ]
    },
    {
      "cell_type": "markdown",
      "source": [
        "Giv en kort definition af korrelationskoefficienten og fortolk resultatet:\n",
        "\n",
        "- R (korrelationskoefficienten) er en statistik, som beskriver sammenhæng mellem 2 variabler (ikke kausalitet). \n",
        "- Værdier går fra -1 til 1, hvor -1 betyder perfekt negativ sammenhæng, 0 ikke noget sammenhæng og 1 positiv sammenhæng.\n",
        "\n",
        "0.35 her betyder, at der er moderat positiv sammenhæng, dvs. indkomst går op med uddannelsesniveaut (on average)."
      ],
      "metadata": {
        "id": "AbByxF12xJRC"
      }
    },
    {
      "cell_type": "code",
      "source": [
        "# 2.6\n",
        "# Lav en ny dataframe \"state_mean\", hvor der beregnes gennemsnitsværdier \n",
        "# for \"wage\", \"black\" og \"smsa\" for hver US delstat 'state'\n",
        "state_mean = df_clean.groupby('state')[['wage','black','smsa']].mean()"
      ],
      "metadata": {
        "id": "p1rnDVMu6HGh"
      },
      "execution_count": null,
      "outputs": []
    },
    {
      "cell_type": "code",
      "source": [
        "# Beregn korellation \"wage\" vs \"smsa\" på delstatsniveau\n",
        "state_mean['wage'].corr(state_mean['smsa'])"
      ],
      "metadata": {
        "colab": {
          "base_uri": "https://localhost:8080/"
        },
        "id": "Uv2HXVvg9OUC",
        "outputId": "aeb68df4-3ff3-476d-8bad-dd8daf6b7301"
      },
      "execution_count": null,
      "outputs": [
        {
          "output_type": "execute_result",
          "data": {
            "text/plain": [
              "0.2357666566226461"
            ]
          },
          "metadata": {},
          "execution_count": 25
        }
      ]
    },
    {
      "cell_type": "code",
      "source": [
        "# Beregn korellation \"wage\" vs \"black\" på delstatsniveau\n",
        "state_mean['wage'].corr(state_mean['black'])"
      ],
      "metadata": {
        "colab": {
          "base_uri": "https://localhost:8080/"
        },
        "id": "IXpsdnhv6daS",
        "outputId": "a2661dd6-8bba-4948-b2b8-e541e550576e"
      },
      "execution_count": null,
      "outputs": [
        {
          "output_type": "execute_result",
          "data": {
            "text/plain": [
              "-0.622844544437326"
            ]
          },
          "metadata": {},
          "execution_count": 26
        }
      ]
    },
    {
      "cell_type": "code",
      "source": [
        "# 2.7\n",
        "# Lav en visualisering: \"black\" vs wage\" med et seaborn regplot \n",
        "# (sns.regplot funktion - udviddet scatterplot) på delstatsniveau\n",
        "sns.regplot(x = state_mean['black'], y = state_mean['wage'])"
      ],
      "metadata": {
        "colab": {
          "base_uri": "https://localhost:8080/",
          "height": 296
        },
        "id": "wJJQqy_f9alX",
        "outputId": "2559c6c8-6634-4ee4-af5a-12fda723a2bd"
      },
      "execution_count": null,
      "outputs": [
        {
          "output_type": "execute_result",
          "data": {
            "text/plain": [
              "<matplotlib.axes._subplots.AxesSubplot at 0x7f82d3fe4f90>"
            ]
          },
          "metadata": {},
          "execution_count": 27
        },
        {
          "output_type": "display_data",
          "data": {
            "image/png": "[encoded data removed]",
            "text/plain": [
              "<Figure size 432x288 with 1 Axes>"
            ]
          },
          "metadata": {
            "needs_background": "light"
          }
        }
      ]
    },
    {
      "cell_type": "markdown",
      "source": [
        "Fortolk din visualisering: \n",
        "\n",
        "- De fleste stater har en lav andel af sort befolkning.\n",
        "- I de stater, hvor andelen er højere, er gennemsnintsløn lavere."
      ],
      "metadata": {
        "id": "b3bJjLDVyXnH"
      }
    },
    {
      "cell_type": "code",
      "source": [
        "# Indlæs vaccinedata\n",
        "vaccines = pd.read_csv('https://github.com/SDS-AAU/ASEX22/raw/main/data2.csv')"
      ],
      "metadata": {
        "id": "WgYL8bRoe1Eu"
      },
      "execution_count": null,
      "outputs": []
    },
    {
      "cell_type": "code",
      "source": [
        "# Vis de første 5 rækker\n",
        "vaccines.head()"
      ],
      "metadata": {
        "colab": {
          "base_uri": "https://localhost:8080/",
          "height": 206
        },
        "id": "dCwLiOMi_2SX",
        "outputId": "c9c3ac42-b9ea-4eb3-b2fb-691cbe05ad08"
      },
      "execution_count": null,
      "outputs": [
        {
          "output_type": "execute_result",
          "data": {
            "text/html": [
              "\n",
              "  <div id=\"df-e996c295-5b83-4adc-8aa1-f2c36405da82\">\n",
              "    <div class=\"colab-df-container\">\n",
              "      <div>\n",
              "<style scoped>\n",
              "    .dataframe tbody tr th:only-of-type {\n",
              "        vertical-align: middle;\n",
              "    }\n",
              "\n",
              "    .dataframe tbody tr th {\n",
              "        vertical-align: top;\n",
              "    }\n",
              "\n",
              "    .dataframe thead th {\n",
              "        text-align: right;\n",
              "    }\n",
              "</style>\n",
              "<table border=\"1\" class=\"dataframe\">\n",
              "  <thead>\n",
              "    <tr style=\"text-align: right;\">\n",
              "      <th></th>\n",
              "      <th>vaccinated_adult_per_100k</th>\n",
              "      <th>state_str</th>\n",
              "      <th>state</th>\n",
              "    </tr>\n",
              "  </thead>\n",
              "  <tbody>\n",
              "    <tr>\n",
              "      <th>0</th>\n",
              "      <td>239118</td>\n",
              "      <td>Alaska</td>\n",
              "      <td>2</td>\n",
              "    </tr>\n",
              "    <tr>\n",
              "      <th>1</th>\n",
              "      <td>210729</td>\n",
              "      <td>Alabama</td>\n",
              "      <td>1</td>\n",
              "    </tr>\n",
              "    <tr>\n",
              "      <th>2</th>\n",
              "      <td>214333</td>\n",
              "      <td>Arkansas</td>\n",
              "      <td>5</td>\n",
              "    </tr>\n",
              "    <tr>\n",
              "      <th>3</th>\n",
              "      <td>251189</td>\n",
              "      <td>American Samoa</td>\n",
              "      <td>60</td>\n",
              "    </tr>\n",
              "    <tr>\n",
              "      <th>4</th>\n",
              "      <td>220471</td>\n",
              "      <td>Arizona</td>\n",
              "      <td>4</td>\n",
              "    </tr>\n",
              "  </tbody>\n",
              "</table>\n",
              "</div>\n",
              "      <button class=\"colab-df-convert\" onclick=\"convertToInteractive('df-e996c295-5b83-4adc-8aa1-f2c36405da82')\"\n",
              "              title=\"Convert this dataframe to an interactive table.\"\n",
              "              style=\"display:none;\">\n",
              "        \n",
              "  <svg xmlns=\"http://www.w3.org/2000/svg\" height=\"24px\"viewBox=\"0 0 24 24\"\n",
              "       width=\"24px\">\n",
              "    <path d=\"M0 0h24v24H0V0z\" fill=\"none\"/>\n",
              "    <path d=\"M18.56 5.44l.94 2.06.94-2.06 2.06-.94-2.06-.94-.94-2.06-.94 2.06-2.06.94zm-11 1L8.5 8.5l.94-2.06 2.06-.94-2.06-.94L8.5 2.5l-.94 2.06-2.06.94zm10 10l.94 2.06.94-2.06 2.06-.94-2.06-.94-.94-2.06-.94 2.06-2.06.94z\"/><path d=\"M17.41 7.96l-1.37-1.37c-.4-.4-.92-.59-1.43-.59-.52 0-1.04.2-1.43.59L10.3 9.45l-7.72 7.72c-.78.78-.78 2.05 0 2.83L4 21.41c.39.39.9.59 1.41.59.51 0 1.02-.2 1.41-.59l7.78-7.78 2.81-2.81c.8-.78.8-2.07 0-2.86zM5.41 20L4 18.59l7.72-7.72 1.47 1.35L5.41 20z\"/>\n",
              "  </svg>\n",
              "      </button>\n",
              "      \n",
              "  <style>\n",
              "    .colab-df-container {\n",
              "      display:flex;\n",
              "      flex-wrap:wrap;\n",
              "      gap: 12px;\n",
              "    }\n",
              "\n",
              "    .colab-df-convert {\n",
              "      background-color: #E8F0FE;\n",
              "      border: none;\n",
              "      border-radius: 50%;\n",
              "      cursor: pointer;\n",
              "      display: none;\n",
              "      fill: #1967D2;\n",
              "      height: 32px;\n",
              "      padding: 0 0 0 0;\n",
              "      width: 32px;\n",
              "    }\n",
              "\n",
              "    .colab-df-convert:hover {\n",
              "      background-color: #E2EBFA;\n",
              "      box-shadow: 0px 1px 2px rgba(60, 64, 67, 0.3), 0px 1px 3px 1px rgba(60, 64, 67, 0.15);\n",
              "      fill: #174EA6;\n",
              "    }\n",
              "\n",
              "    [theme=dark] .colab-df-convert {\n",
              "      background-color: #3B4455;\n",
              "      fill: #D2E3FC;\n",
              "    }\n",
              "\n",
              "    [theme=dark] .colab-df-convert:hover {\n",
              "      background-color: #434B5C;\n",
              "      box-shadow: 0px 1px 3px 1px rgba(0, 0, 0, 0.15);\n",
              "      filter: drop-shadow(0px 1px 2px rgba(0, 0, 0, 0.3));\n",
              "      fill: #FFFFFF;\n",
              "    }\n",
              "  </style>\n",
              "\n",
              "      <script>\n",
              "        const buttonEl =\n",
              "          document.querySelector('#df-e996c295-5b83-4adc-8aa1-f2c36405da82 button.colab-df-convert');\n",
              "        buttonEl.style.display =\n",
              "          google.colab.kernel.accessAllowed ? 'block' : 'none';\n",
              "\n",
              "        async function convertToInteractive(key) {\n",
              "          const element = document.querySelector('#df-e996c295-5b83-4adc-8aa1-f2c36405da82');\n",
              "          const dataTable =\n",
              "            await google.colab.kernel.invokeFunction('convertToInteractive',\n",
              "                                                     [key], {});\n",
              "          if (!dataTable) return;\n",
              "\n",
              "          const docLinkHtml = 'Like what you see? Visit the ' +\n",
              "            '<a target=\"_blank\" href=https://colab.research.google.com/notebooks/data_table.ipynb>data table notebook</a>'\n",
              "            + ' to learn more about interactive tables.';\n",
              "          element.innerHTML = '';\n",
              "          dataTable['output_type'] = 'display_data';\n",
              "          await google.colab.output.renderOutput(dataTable, element);\n",
              "          const docLink = document.createElement('div');\n",
              "          docLink.innerHTML = docLinkHtml;\n",
              "          element.appendChild(docLink);\n",
              "        }\n",
              "      </script>\n",
              "    </div>\n",
              "  </div>\n",
              "  "
            ],
            "text/plain": [
              "   vaccinated_adult_per_100k       state_str  state\n",
              "0                     239118          Alaska      2\n",
              "1                     210729         Alabama      1\n",
              "2                     214333        Arkansas      5\n",
              "3                     251189  American Samoa     60\n",
              "4                     220471         Arizona      4"
            ]
          },
          "metadata": {},
          "execution_count": 29
        }
      ]
    },
    {
      "cell_type": "code",
      "source": [
        "# 3.1 \n",
        "# Beregn standard statistikker (automatisk funktion)\n",
        "# for 'vaccinated_adult_per_100k'\n",
        "vaccines['vaccinated_adult_per_100k'].describe()"
      ],
      "metadata": {
        "colab": {
          "base_uri": "https://localhost:8080/"
        },
        "id": "_hhIeOyQ_4je",
        "outputId": "410b6f86-9dd8-40f7-ef02-6f677c361f8e"
      },
      "execution_count": null,
      "outputs": [
        {
          "output_type": "execute_result",
          "data": {
            "text/plain": [
              "count        56.000000\n",
              "mean     233336.982143\n",
              "std       25192.098391\n",
              "min      162796.000000\n",
              "25%      214367.500000\n",
              "50%      234100.500000\n",
              "75%      250903.250000\n",
              "max      308136.000000\n",
              "Name: vaccinated_adult_per_100k, dtype: float64"
            ]
          },
          "metadata": {},
          "execution_count": 30
        }
      ]
    },
    {
      "cell_type": "code",
      "source": [
        "# 3.2\n",
        "# Sammenfør datasættene 'df_clean' og 'vaccines'; 'state' bruges som nøgle i begge \n",
        "# udgangs-dataframes\n",
        "df_merged = df_clean.merge(vaccines, left_on='state', right_on='state')"
      ],
      "metadata": {
        "id": "s3yVGJQr_GNw"
      },
      "execution_count": null,
      "outputs": []
    },
    {
      "cell_type": "code",
      "source": [
        "# Tjek, om der er lige mange observationer i df_merged og df_clean\n",
        "len(df_merged) == len(df_clean)"
      ],
      "metadata": {
        "colab": {
          "base_uri": "https://localhost:8080/"
        },
        "id": "mu3WoERz_iff",
        "outputId": "b6e7d4f8-1114-48d7-970e-c5b9669f72e3"
      },
      "execution_count": null,
      "outputs": [
        {
          "output_type": "execute_result",
          "data": {
            "text/plain": [
              "True"
            ]
          },
          "metadata": {},
          "execution_count": 32
        }
      ]
    },
    {
      "cell_type": "code",
      "source": [
        "# 3.3\n",
        "# Lav en ny dataframe, hvor du beregner gennemsnit \n",
        "# for 'vaccinated_adult_per_100k','married','edu','smsa','black'\n",
        "# på delstatsniveau. Brug 'state_str' til gruppering.\n",
        "means_by_state = df_merged.groupby(['state_str'])[['vaccinated_adult_per_100k','married','edu','smsa','black']].mean()"
      ],
      "metadata": {
        "id": "vqzb9-3f_S0y"
      },
      "execution_count": null,
      "outputs": []
    },
    {
      "cell_type": "code",
      "source": [
        "# 3.4\n",
        "# Beregn korrelation mellem 'vaccinated_adult_per_100k' og 'smsa'\n",
        "means_by_state['vaccinated_adult_per_100k'].corr(means_by_state['smsa'])"
      ],
      "metadata": {
        "colab": {
          "base_uri": "https://localhost:8080/"
        },
        "id": "5_j8-j5TC9AD",
        "outputId": "15ded882-d9f1-49b7-8024-777c2f590b86"
      },
      "execution_count": null,
      "outputs": [
        {
          "output_type": "execute_result",
          "data": {
            "text/plain": [
              "0.4207737722162879"
            ]
          },
          "metadata": {},
          "execution_count": 38
        }
      ]
    },
    {
      "cell_type": "code",
      "source": [
        "# Lav en visualisering: \"smsa\" vs \"vaccinated_adult_per_100k\" med et seaborn regplot \n",
        "# (sns.regplot funktion - udviddet scatterplot) på delstatsniveau\n",
        "sns.regplot(x = means_by_state['smsa'], y = means_by_state['vaccinated_adult_per_100k'])"
      ],
      "metadata": {
        "colab": {
          "base_uri": "https://localhost:8080/",
          "height": 300
        },
        "id": "WWsb958lE1sy",
        "outputId": "6800b19e-3c4f-4dc2-dd9c-bc459534db23"
      },
      "execution_count": null,
      "outputs": [
        {
          "output_type": "execute_result",
          "data": {
            "text/plain": [
              "<matplotlib.axes._subplots.AxesSubplot at 0x7f82e0d7f6d0>"
            ]
          },
          "metadata": {},
          "execution_count": 39
        },
        {
          "output_type": "display_data",
          "data": {
            "image/png": "[encoded data removed]",
            "text/plain": [
              "<Figure size 432x288 with 1 Axes>"
            ]
          },
          "metadata": {
            "needs_background": "light"
          }
        }
      ]
    },
    {
      "cell_type": "markdown",
      "source": [
        "Fortolk korrelation og din visualisering Der er moderat positiv ssammenhæng mellem vaccinetilslutning og andel af observationer af dem, der arbejder i  urbane områder på delstatsniveau."
      ],
      "metadata": {
        "id": "45ja53EQ1e3-"
      }
    },
    {
      "cell_type": "code",
      "source": [
        ""
      ],
      "metadata": {
        "id": "8AEjHSGg_G93"
      },
      "execution_count": null,
      "outputs": []
    }
  ]
}
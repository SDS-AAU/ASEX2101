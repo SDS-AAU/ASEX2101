{
  "nbformat": 4,
  "nbformat_minor": 0,
  "metadata": {
    "colab": {
      "name": "AS2021-reeks-std",
      "provenance": [],
      "collapsed_sections": []
    },
    "kernelspec": {
      "name": "python3",
      "display_name": "Python 3"
    },
    "language_info": {
      "name": "python"
    }
  },
  "cells": [
    {
      "cell_type": "markdown",
      "source": [
        "# Re-Eksamen: Anvendt Statistik 2021\n",
        "### Aalborg University Business School, HA 1. Semester\n",
        "#### Roman Jurowetzki; 5. Januar 2022\n",
        "\n",
        "#### Rules of the game:\n",
        "\n",
        "- Don't panic! - Hvis koden ikke virker (men virkede før). Gå tilbage, og kør oppefra ned. Også en god ide at tjekke, at koden er fejlfri ved at gøre denne øvelse undervejs.\n",
        "- Du må gerne bruge hjælpemidler og det forventes, at du kan slå funktioner op (f.eks: https://seaborn.pydata.org/api.html eller https://pandas.pydata.org/docs/reference/index.html#api)\n",
        "- LÆS!!! hvad der står og hvad du forventes at lave!\n",
        "- De fleste kodefejl er dumme stavefejl. Vær omhyggelig med kommaer, punktummer etc.\n",
        "- Hvis der er noget, som slet ikke kan løses, så kan du bare kommentere ud med `#`\n",
        "- Husk, at output skal kunne ses (f.eks. dine plots)\n",
        "- Play fair og lad være med at snyde! - Gruppearbejde er absolut IKKE tilladt.\n",
        "- Tjek AAU mail mht. mulige opdateringer fra undervisere undervejs\n",
        "- Brug kun objektnavne, der blev defineret i opgaven\n",
        "- Der afleveres som 👉 `ipynb` (**ikke PDF!**) - dvs, du skal bare downloade den fil, du arbejder med fra colab, eller bare aflevere den ipynb fil som du har åbent i Jupyter Lab."
      ],
      "metadata": {
        "id": "HHwPaDp9X4ai"
      }
    },
    {
      "cell_type": "code",
      "execution_count": null,
      "metadata": {
        "id": "EcnYycjDrz9h"
      },
      "outputs": [],
      "source": [
        "# Importér pakker og indstillinger til plotting\n",
        "\n",
        "import pandas as pd\n",
        "import matplotlib.pyplot as plt\n",
        "import seaborn as sns\n",
        "\n",
        "sns.set_style('darkgrid')\n",
        "sns.mpl.rcParams['figure.figsize'] = (15.0, 9.0)"
      ]
    },
    {
      "cell_type": "markdown",
      "source": [
        "# US Arbejdsmarked 1980 og COVID Vacciner 2021\n",
        "\n",
        "![](https://source.unsplash.com/FyvE6XPs5gk)\n",
        "\n",
        "Data som skal undersøges ved brug af beskrivende statistik kommer fra 2 kilder:\n",
        "* Data1: Angrist and Krueger (1991) “Does Compulsory School Attendance Affect Schooling and Earnings?” The Quarterly Journal of\n",
        "Economics (1991)\n",
        "\n",
        "* Data2: CSCs COVID-19 Vaccinations in the United States [COVID DATA TRACKER](https://covid.cdc.gov/covid-data-tracker/) (20/12 2021)\n",
        "\n",
        "I den første del af opgaven skal du forberede og analysere det første datasæt. Til sidst skal dette føres sammen med vaccine data for at se, om data, der beskriver US stater for over 40 år siden, muligvis stadigvæk kan forklare nogle mønstre i vaccinetilslutning idag.\n",
        "\n",
        "**Data 1: Besvarelser fra 82377 individer, 1980**\n",
        "\n",
        "\n",
        "| **Variable** | **Beskrivelse**                               |\n",
        "|----------|-------------------------------------------|\n",
        "| ageq     | alder inkl. kvartal                       |\n",
        "| edu      | højeste klassetrin afsluttet              |\n",
        "| logwage  | logaritme af indkomst/uge (\\$)             |\n",
        "| married  | gift:1, ellers:0                          |\n",
        "| state    | US Delstat, FIPS kode                     |\n",
        "| black    | sort:1, ellers:0                          |\n",
        "| smsa     | arbejder i \"metropolitan area\":1 ellers 0 |\n",
        "| yob      | fødselsår                                 |\n",
        "| wage     | indkomst/uge (\\$)                          |\n",
        "\n",
        "**Data 2: Vaccinetal/100k i delstater inkl. øer**\n",
        "\n",
        "* Vacciner givet til voksne per 100k inkl. alle stik og booster.\n",
        "* Delstat navn og FIPS code\n",
        "\n",
        "Du skal arbejde med 2 filer:\n",
        "- `data1.csv`\n",
        "- `data2.csv`\n",
        "\n",
        "Filerne findes også på:\n",
        "\n",
        "- `https://github.com/SDS-AAU/ASEX22/raw/main/data1.csv`\n",
        "- `https://github.com/SDS-AAU/ASEX22/raw/main/data2.csv`\n",
        "\n"
      ],
      "metadata": {
        "id": "MxNXOJ0zYfh0"
      }
    },
    {
      "cell_type": "code",
      "source": [
        "# 1.1\n",
        "# Brug pandas til at åbne datafiler (ingen zip, ingen specielle sep indstillinger)\n",
        "df = ___"
      ],
      "metadata": {
        "id": "ImGohG3Usa7_"
      },
      "execution_count": null,
      "outputs": []
    },
    {
      "cell_type": "code",
      "source": [
        "# 1.2\n",
        "# Inspicér de første 5 rækker i datasættet\n",
        "___"
      ],
      "metadata": {
        "id": "bJDAHUzWeoYT"
      },
      "execution_count": null,
      "outputs": []
    },
    {
      "cell_type": "code",
      "source": [
        "# Print info\n",
        "___"
      ],
      "metadata": {
        "id": "N0z2y0n7skgz"
      },
      "execution_count": null,
      "outputs": []
    },
    {
      "cell_type": "code",
      "source": [
        "# 1.2 Vis antal af manglende observationer for alle variable\n",
        "___"
      ],
      "metadata": {
        "id": "ZwArZfCesl-p"
      },
      "execution_count": null,
      "outputs": []
    },
    {
      "cell_type": "code",
      "source": [
        "# 1.3\n",
        "# Drop observationer hvor der mangler 'edu'; \n",
        "df.___(subset=[___], axis=_, inplace=True)"
      ],
      "metadata": {
        "id": "YymHQzFrtooK"
      },
      "execution_count": null,
      "outputs": []
    },
    {
      "cell_type": "code",
      "source": [
        "# 1.4\n",
        "# Brug gennemsnit for 'wage' til at udfylde de manglende værdier for \n",
        "# samme variable. Du kan beregne gennemsnit for 'wage' først eller \n",
        "# lave det hele i et skridt\n",
        "\n",
        "df['wage'].___(___, inplace=True)"
      ],
      "metadata": {
        "id": "vCiFm1Rts2or"
      },
      "execution_count": null,
      "outputs": []
    },
    {
      "cell_type": "code",
      "source": [
        "# 1.5 \n",
        "# Beregn beskrivende statistikker, inkl. min/max/percentiler/standardafvigelse mm.\n",
        "# for df['wage']\n",
        "\n",
        "___"
      ],
      "metadata": {
        "id": "MP_KTAlWuawv"
      },
      "execution_count": null,
      "outputs": []
    },
    {
      "cell_type": "code",
      "source": [
        "# Plot histogram for df['wage']\n",
        "___"
      ],
      "metadata": {
        "id": "CG5famURu1HJ"
      },
      "execution_count": null,
      "outputs": []
    },
    {
      "cell_type": "markdown",
      "source": [
        "Brug fordelingen af `wage` variablen til at fjerne ekstreme værdier (outliers).\n",
        "Brug interkvartilområde (interquartile range, IQR) $Q_3-Q_1$ og 3. kvartil til at beregne den øvere begrænsning $Q_3 + 1.5*IQR$.\n",
        "\n",
        "OBS:\n",
        "$Q_1$ = 25 percentil\n",
        "$Q_3$ = 75 percentil"
      ],
      "metadata": {
        "id": "1SJbETG7hnE7"
      }
    },
    {
      "cell_type": "code",
      "source": [
        "# 1.6\n",
        "# Beregn IQR - Q3-Q1: 'iqr'\n",
        "iqr = ___"
      ],
      "metadata": {
        "id": "qJAUYpxtvJBl"
      },
      "execution_count": null,
      "outputs": []
    },
    {
      "cell_type": "code",
      "source": [
        "# Beregn øvre begrænsning Q3+1.5*IQR: 'upper_bound'\n",
        "upper_bound = ___"
      ],
      "metadata": {
        "id": "OgCvpaIGvjAz"
      },
      "execution_count": null,
      "outputs": []
    },
    {
      "cell_type": "code",
      "source": [
        "# 1.7\n",
        "# Brug upper_bound til at fjerne outliers\n",
        "# dvs. ingen observationer, hvor df['wage'] >= upper_bound\n",
        "# Lav ger en ny dataframe: 'df_clean'\n",
        "\n",
        "df_clean = ___"
      ],
      "metadata": {
        "id": "OYZZlZp-vUJD"
      },
      "execution_count": null,
      "outputs": []
    },
    {
      "cell_type": "code",
      "source": [
        "# 1.8\n",
        "# Hvor mange observationer (% af dataframe df) bliver fjernet?\n",
        "# du kan bruge 'len' funktionen til at se antal af observationer i en dataframe\n",
        "___"
      ],
      "metadata": {
        "id": "iDqBgzpKya8m"
      },
      "execution_count": null,
      "outputs": []
    },
    {
      "cell_type": "markdown",
      "source": [
        "👉 **Brug `df_clean` i alle analyser herfra medmindre noget andet efterspørges**"
      ],
      "metadata": {
        "id": "lQmFgdM9pOcH"
      }
    },
    {
      "cell_type": "code",
      "source": [
        "# 1.9\n",
        "# Beregn beskrivende statistikker (automatisk funktion), inkl. min/max/percentiler/standardafvigelse mm.\n",
        "# for 'wage' i den nye dataframe df_clean\n",
        "___"
      ],
      "metadata": {
        "id": "UjOVK7lAvUvM"
      },
      "execution_count": null,
      "outputs": []
    },
    {
      "cell_type": "code",
      "source": [
        "# plot et histogram for df_clean['wage']\n",
        "___"
      ],
      "metadata": {
        "id": "eY_BnLoinGIm"
      },
      "execution_count": null,
      "outputs": []
    },
    {
      "cell_type": "markdown",
      "source": [
        "Forklar begrebet `standardafvigelse` (matematisk samt fortolkning i vores eksempel). Hvorfor er værdien mere end halveret, hvis vi sammenligner resultatet fra 1.5 og 1.9?\n",
        "\n",
        "...\n"
      ],
      "metadata": {
        "id": "PsM07Ntcnf2s"
      }
    },
    {
      "cell_type": "code",
      "source": [
        "# 2.1\n",
        "# Lav boxplot af df_clean['wage'] vs 'smsa' (y) og 'married' som farve\n",
        "sns.boxplot(data = ___, x=___, y=___, hue=___, orient='h')"
      ],
      "metadata": {
        "id": "f8ig9Y0Fw-V6"
      },
      "execution_count": null,
      "outputs": []
    },
    {
      "cell_type": "markdown",
      "source": [
        "Hvad kan du observere?\n",
        "\n",
        "- Fordeling gift/ikke gift: ___\n",
        "- SMSA 1/0: ___"
      ],
      "metadata": {
        "id": "etJOY_0sp1qz"
      }
    },
    {
      "cell_type": "code",
      "source": [
        "# 2.2 \n",
        "# Lav krydstabel for 'married' vs 'black', vis relative værdier \n",
        "# (horizontal sum af rækker/index = 1)\n",
        "pd.___(___, ___, normalize=___)"
      ],
      "metadata": {
        "id": "dVfelBNhxQkp"
      },
      "execution_count": null,
      "outputs": []
    },
    {
      "cell_type": "markdown",
      "source": [
        "andel af sorte, som er gift: ___"
      ],
      "metadata": {
        "id": "I6sEFi1frSGZ"
      }
    },
    {
      "cell_type": "code",
      "source": [
        "# 2.3 \n",
        "# Inddel observationerne i 3 kategorier mht. uddannelsesniveau\n",
        "# 0-11: low; 12-13: med; 14+: high\n",
        "\n",
        "# OBS: den øvre grænse er inkluderet pga. right=True\n",
        "# dvs [0,11] --> 0-11; ikke 0-10\n",
        "# der kan komme en \"SettingWithCopyWarning\" hvilket ikke er en fejl.\n",
        "\n",
        "levels = [_, _, _, _] # grænser\n",
        "names = [_,_,_] # navne til kategorier\n",
        "\n",
        "df_clean['edu_cat'] = pd.___(___, bins=___, labels=___, right=True)"
      ],
      "metadata": {
        "id": "_lKVgnj70-Z6"
      },
      "execution_count": null,
      "outputs": []
    },
    {
      "cell_type": "code",
      "source": [
        "# Lav krydstabel for 'edu_cat' vs 'smsa'\n",
        "# vis relative værdier (vertikal sum per kolonne = 1)\n",
        "\n",
        "pd.___(___, ___, normalize=___)"
      ],
      "metadata": {
        "id": "nB5sG6Nv0mgS"
      },
      "execution_count": null,
      "outputs": []
    },
    {
      "cell_type": "markdown",
      "source": [
        "Fortolk resultater mht. forskelle i fordelingen af uddannelsesniveauer i urbane og landlige områder."
      ],
      "metadata": {
        "id": "t18Eo7BxbiLw"
      }
    },
    {
      "cell_type": "code",
      "source": [
        "# 2.4\n",
        "# Lav en ny Dataframe \"df_flms\" kun med observationer fra \n",
        "# Florida (12) og Massachusetts (25)\n",
        "\n",
        "df_flms = ___[___.isin([__,__])]"
      ],
      "metadata": {
        "id": "JD_8wZUC2DSs"
      },
      "execution_count": null,
      "outputs": []
    },
    {
      "cell_type": "code",
      "source": [
        "# hvor mange observationer er der for hver af de 2 stater (i den nye dataframe df_flms)?\n",
        "df_flms['state'].___"
      ],
      "metadata": {
        "id": "8EnFfplkqkYU"
      },
      "execution_count": null,
      "outputs": []
    },
    {
      "cell_type": "code",
      "source": [
        "# histogram / sns.displot funktion af 'edu' med 'state' som farveinddeling\n",
        "sns.displot(data = ___, x=___, hue=___, kind='hist')"
      ],
      "metadata": {
        "id": "AjmgnsEN2NIR"
      },
      "execution_count": null,
      "outputs": []
    },
    {
      "cell_type": "markdown",
      "source": [
        "Kort fortolkning af, hvad histogrammet viser: ___"
      ],
      "metadata": {
        "id": "aKjWg_meqQdp"
      }
    },
    {
      "cell_type": "markdown",
      "source": [
        "👉 **Brug `df_clean` igen herfra**"
      ],
      "metadata": {
        "id": "KM_AJZ3-w_m_"
      }
    },
    {
      "cell_type": "code",
      "source": [
        "# 2.5\n",
        "# Beregn korrelation af 'wage' og 'edu'\n",
        "___"
      ],
      "metadata": {
        "id": "TBV6VF975T41"
      },
      "execution_count": null,
      "outputs": []
    },
    {
      "cell_type": "markdown",
      "source": [
        "Giv en kort definition af korrelationskoefficienten og fortolk resultatet:"
      ],
      "metadata": {
        "id": "AbByxF12xJRC"
      }
    },
    {
      "cell_type": "code",
      "source": [
        "# 2.6\n",
        "# Lav en ny dataframe \"state_mean\", hvor der beregnes gennemsnitsværdier \n",
        "# for \"wage\", \"black\" og \"smsa\" for hver US delstat 'state'\n",
        "state_mean = df_clean.___(___)[['wage','black','smsa']].___"
      ],
      "metadata": {
        "id": "p1rnDVMu6HGh"
      },
      "execution_count": null,
      "outputs": []
    },
    {
      "cell_type": "code",
      "source": [
        "# Beregn korellation \"wage\" vs \"smsa\" på delstatsniveau\n",
        "___"
      ],
      "metadata": {
        "id": "Uv2HXVvg9OUC"
      },
      "execution_count": null,
      "outputs": []
    },
    {
      "cell_type": "code",
      "source": [
        "# Beregn korellation \"wage\" vs \"black\" på delstatsniveau\n",
        "___"
      ],
      "metadata": {
        "id": "IXpsdnhv6daS"
      },
      "execution_count": null,
      "outputs": []
    },
    {
      "cell_type": "code",
      "source": [
        "# 2.7\n",
        "# Lav en visualisering: \"black\" vs wage\" med et seaborn regplot \n",
        "# (sns.regplot funktion - udviddet scatterplot) på delstatsniveau\n",
        "sns.regplot(x = ___, y = ___)"
      ],
      "metadata": {
        "id": "wJJQqy_f9alX"
      },
      "execution_count": null,
      "outputs": []
    },
    {
      "cell_type": "markdown",
      "source": [
        "Fortolk din visualisering: ___"
      ],
      "metadata": {
        "id": "b3bJjLDVyXnH"
      }
    },
    {
      "cell_type": "code",
      "source": [
        "# Indlæs vaccinedata\n",
        "vaccines = ___"
      ],
      "metadata": {
        "id": "WgYL8bRoe1Eu"
      },
      "execution_count": null,
      "outputs": []
    },
    {
      "cell_type": "code",
      "source": [
        "# Vis de første 5 rækker\n",
        "___"
      ],
      "metadata": {
        "id": "dCwLiOMi_2SX"
      },
      "execution_count": null,
      "outputs": []
    },
    {
      "cell_type": "code",
      "source": [
        "# 3.1 \n",
        "# Beregn standard statistikker (automatisk funktion)\n",
        "# for 'vaccinated_adult_per_100k'\n",
        "___"
      ],
      "metadata": {
        "id": "_hhIeOyQ_4je"
      },
      "execution_count": null,
      "outputs": []
    },
    {
      "cell_type": "code",
      "source": [
        "# 3.2\n",
        "# Sammenfør datasættene 'df_clean' og 'vaccines'; 'state' bruges som nøgle i begge \n",
        "# udgangs-dataframes\n",
        "df_merged = df_clean.___(___, left_on=___, right_on=___)"
      ],
      "metadata": {
        "id": "s3yVGJQr_GNw"
      },
      "execution_count": null,
      "outputs": []
    },
    {
      "cell_type": "code",
      "source": [
        "# Tjek, om der er lige mange observationer i df_merged og df_clean\n",
        "___ == ___"
      ],
      "metadata": {
        "id": "mu3WoERz_iff"
      },
      "execution_count": null,
      "outputs": []
    },
    {
      "cell_type": "code",
      "source": [
        "# 3.3\n",
        "# Lav en ny dataframe, hvor du beregner gennemsnit \n",
        "# for 'vaccinated_adult_per_100k','married','edu','smsa','black'\n",
        "# på delstatsniveau. Brug 'state_str' til gruppering.\n",
        "means_by_state = df_merged.___([___])[['vaccinated_adult_per_100k','married','edu','smsa','black']].___"
      ],
      "metadata": {
        "id": "vqzb9-3f_S0y"
      },
      "execution_count": null,
      "outputs": []
    },
    {
      "cell_type": "code",
      "source": [
        "# 3.4\n",
        "# Beregn korrelation mellem 'vaccinated_adult_per_100k' og 'smsa'\n",
        "___"
      ],
      "metadata": {
        "id": "5_j8-j5TC9AD"
      },
      "execution_count": null,
      "outputs": []
    },
    {
      "cell_type": "code",
      "source": [
        "# Lav en visualisering: \"smsa\" vs \"vaccinated_adult_per_100k\" med et seaborn regplot \n",
        "# (sns.regplot funktion - udviddet scatterplot) på delstatsniveau\n",
        "sns.regplot(x = ___, y = ___)"
      ],
      "metadata": {
        "id": "WWsb958lE1sy"
      },
      "execution_count": null,
      "outputs": []
    },
    {
      "cell_type": "markdown",
      "source": [
        "Fortolk korrelation og din visualisering ___"
      ],
      "metadata": {
        "id": "45ja53EQ1e3-"
      }
    }
  ]
}
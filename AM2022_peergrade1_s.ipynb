{
  "cells": [
    {
      "cell_type": "markdown",
      "metadata": {
        "colab_type": "text",
        "id": "view-in-github"
      },
      "source": [
        "<a href=\"https://colab.research.google.com/github/SDS-AAU/ASEX22/blob/main/AM2022_peergrade1_s.ipynb\" target=\"_parent\"><img src=\"https://colab.research.google.com/assets/colab-badge.svg\" alt=\"Open In Colab\"/></a>"
      ]
    },
    {
      "cell_type": "markdown",
      "metadata": {
        "id": "SvW_VeLTxRHw"
      },
      "source": [
        "# Anvendt Matematik 2022 - Peergrade Opgave1\n",
        "\n",
        "- Du må gerne arbejde sammen med din gruppe eller andre.\n",
        "- Din aflevering er individuel\n",
        "- Du skal selv oprette jupyter celler\n",
        "- Brug notebooks fra undervisningen som eksempel mht. navngivning af objekter, kommentering af kode etc.\n",
        "- Opgaven er i den mere udfordrende ende og kan ikke løses ved ”bare” at reproducere fra undervisningen. Der er dog ingen nye typer af beregniger/matematik, som ikke blev præsenteret i undervisningen.\n",
        "- Der afleveres som **PDF**!\n"
      ]
    },
    {
      "cell_type": "markdown",
      "metadata": {
        "id": "vodAWH4NjXw0"
      },
      "source": [
        "#1. FjordBikes\n",
        "\n",
        "![](https://source.unsplash.com/lYL_IlgaJVc)\n",
        "\n",
        "Varsomheden FjordBikes vil gerne udvide deres tilbud med en ny type el-cykel.\n",
        "\n",
        "Økonomiafdelingen har leveret tal for hvad en ny produktionslinje vil koste og hvilken omsætning de kan forvente.\n",
        "\n",
        "- Omkostningsfunktionen er ifølge deres tal $ C(x) = 5.576x + 229600 $; \n",
        "- Indtægter kan forventes at være $ R(x) = 10.168x $\n",
        "\n",
        "$C(x)$ og $R(x)$ kan skrives som $y$ og er givet i kr. ; $x$ beskriver antal af producerede cykler.\n",
        "\n",
        "Din opgave er at bruge forskellige løsningstilgange til at finde deres Break-Even punkt."
      ]
    },
    {
      "cell_type": "code",
      "execution_count": null,
      "metadata": {
        "id": "SJbmE8r3VdsB"
      },
      "outputs": [],
      "source": [
        "# Pakker, der skal bruges i opgaven\n",
        "\n",
        "import numpy as np\n",
        "import matplotlib.pyplot as plt\n",
        "\n",
        "np.set_printoptions(suppress=True)"
      ]
    },
    {
      "cell_type": "markdown",
      "metadata": {
        "id": "CB01ty0hkeY7"
      },
      "source": [
        "## 1.1 Grafisk løsning\n",
        "\n",
        "Lav en plot, som viser deres Break-Even punkt. \n",
        "OBS: Du kan definere 1000 x-værdier mellem 0 og 60000."
      ]
    },
    {
      "cell_type": "markdown",
      "metadata": {
        "id": "94JfmXu8lWd6"
      },
      "source": [
        "## 1.2 Rækkeoperationer\n",
        "\n",
        "Definér augmented matrix ud fra de 2 funktioner. Brug rækkeoperationer til at omskrive til trappeform (række-echelon form) og finde en løsning."
      ]
    },
    {
      "cell_type": "markdown",
      "metadata": {
        "id": "ASa0mwVZmS1U"
      },
      "source": [
        "## 1.3a Løsning via matrix ligning\n",
        "\n",
        "Opstil matrix ligning\n",
        "\n",
        "$A\\vec{x} = \\vec{b}$\n",
        "\n",
        "\n",
        "Du skal bruge følgende python objekter:\n",
        "\n",
        "\n",
        "*   $A$: `A1`\n",
        "*   $A^{-1}$: `A1_inv`\n",
        "*   $\\vec{b}$: `vector_b1`\n",
        "* $\\vec{x}$: `vector_x1`"
      ]
    },
    {
      "cell_type": "markdown",
      "metadata": {
        "id": "W1-LpBnoorF_"
      },
      "source": [
        "# 1.3b Lavere faste omkostninger\n",
        "\n",
        "Deres aktuelle faste omkostniner er $229600 kr.$ \n",
        "Hvor langt skal disse ned, således man kan opnå Break-Even ved at producere $40.000$ cykler.\n",
        "\n",
        "Brug matrix regning og følgende nye objekter:\n",
        "\n",
        "*   $\\vec{b_n}$: `vector_b1_ny`\n",
        "* $\\vec{x_n}$: `vector_x1_ny`"
      ]
    },
    {
      "cell_type": "markdown",
      "metadata": {
        "id": "mowzHAC4p8fH"
      },
      "source": [
        "# 2. Investering\n",
        "\n",
        "![](https://source.unsplash.com/9opiHRPIvR0)\n",
        "\n",
        "Jonas startede på AAU i september 2020. Han har igennem gymnasietiden og 1 semester på bachelor haft en del fritidsjobs samt indtægter som Influencer på Instagram og andre platforme. I alt har han sparet $165000 kr.$ som han investerede i januar 2021. Han har lært en del om investering og fordelte penge på aktier, ETF og investeringsforeninger.\n",
        "\n",
        "Efter et år har det givet følgende afkast: aktier 9%, ETF 5.6%, investeringsforeninger 5%. I alt tjener Jonas $10470 kr.$ efter et år. Vi ved derudover, at der blev investeret $20000$ mere i ETF end Investeringsforeninger.\n",
        "\n",
        "Hvad var fordelingen i hans portføjle?\n",
        "\n",
        "- Opstil 3 ligninger med 3 ubekendte\n",
        "- Omskriv til matrix ligning af type\n",
        "$A\\vec{x} = \\vec{b}$\n",
        "- Beregn $\\vec{x}$\n",
        "\n",
        "Du skal bruge følgende python objekter:\n",
        "\n",
        "\n",
        "*   $A$: `A2`\n",
        "*   $A^{-1}$: `A2_inv`\n",
        "*   $\\vec{b}$: `vector_b2`\n",
        "* $\\vec{x}$: `vector_x2`"
      ]
    }
  ],
  "metadata": {
    "colab": {
      "authorship_tag": "ABX9TyPtiUOkXSkzL3XB7lEZxPv2",
      "collapsed_sections": [],
      "include_colab_link": true,
      "name": "AM2022_peergrade1_s.ipynb",
      "provenance": []
    },
    "kernelspec": {
      "display_name": "Python 3",
      "name": "python3"
    },
    "language_info": {
      "name": "python"
    }
  },
  "nbformat": 4,
  "nbformat_minor": 0
}
